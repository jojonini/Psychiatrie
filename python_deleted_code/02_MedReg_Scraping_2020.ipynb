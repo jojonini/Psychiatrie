{
 "cells": [
  {
   "cell_type": "markdown",
   "metadata": {},
   "source": [
    "## Scraping der Datenbank MedReg 2020 V1\n",
    "\n",
    "Der folgende Code wurde für das erste Scraping der MedReg-Datenbank im November 2019 erstellt. \n",
    "Es hat sich damals gezeigt, dass die Abfrage auch ohne Intervall durchfüht werden kann. \n",
    "Zuerst habe mit einem Zufalls-Intervall von 5-10 Sekunden pro Anfrage gearbeitet. Dabei wurde ich regelmässig nach einigen hundert Downloads blockiert. Mit der Except-Schlaufe und einem time.sleep von 3 Minuten schaffte ich es immerhin, dass das Programm selbstständig weiterlief. Doch für rund 3000 Datensätze lief das Programm rund 14 Stunden. Die Abfrage von 150'000 Seiten hätte demnach 29 Tage gedauert. Der Versuch, die einzelnen Abfragen im Eiltempo, ohne Zufalls-Intervall durchzuführen, brachte dann eine befriedende Geschwindigkeit. \n",
    "\n",
    "Jetzt geht es darum, dass Scraping noch einmal zu wiederholen, um an die aktuellesten Daten bis Ende 2019 zu kommen.\n",
    "So sieht es im MedReg am 7. Januar aus:\n",
    "\n",
    "<img src = \"/Psychiatrie/graphics/Screenshot_MedReg_20200107.png\" style=width:800px/>\n"
   ]
  },
  {
   "cell_type": "code",
   "execution_count": 1,
   "metadata": {},
   "outputs": [
    {
     "name": "stdout",
     "output_type": "stream",
     "text": [
      "Connection refused\n",
      "Connection refused\n",
      "Connection refused\n",
      "Connection refused\n",
      "Connection refused\n",
      "Connection refused\n",
      "Connection refused\n",
      "Connection refused\n",
      "Connection refused\n",
      "Connection refused\n",
      "Connection refused\n",
      "Connection refused\n",
      "Connection refused\n",
      "Connection refused\n",
      "Connection refused\n",
      "Connection refused\n",
      "Connection refused\n",
      "Connection refused\n",
      "Connection refused\n",
      "Connection refused\n",
      "Connection refused\n",
      "Connection refused\n",
      "Connection refused\n",
      "Connection refused\n",
      "Connection refused\n",
      "Connection refused\n",
      "Connection refused\n",
      "Connection refused\n",
      "Connection refused\n",
      "Connection refused\n",
      "Connection refused\n",
      "Connection refused\n",
      "Connection refused\n",
      "Connection refused\n",
      "Connection refused\n",
      "Connection refused\n",
      "Connection refused\n",
      "Connection refused\n",
      "Connection refused\n",
      "Connection refused\n",
      "Connection refused\n",
      "Connection refused\n",
      "Connection refused\n",
      "Connection refused\n",
      "Connection refused\n",
      "Connection refused\n",
      "Connection refused\n",
      "Connection refused\n",
      "Connection refused\n",
      "Connection refused\n",
      "Connection refused\n",
      "Connection refused\n",
      "Connection refused\n",
      "Connection refused\n",
      "Connection refused\n",
      "Connection refused\n",
      "Connection refused\n",
      "Connection refused\n"
     ]
    }
   ],
   "source": [
    "import requests\n",
    "import random\n",
    "import csv\n",
    "import time\n",
    "from time import sleep\n",
    "\n",
    "\n",
    "url_stamm = \"https://www.medregom.admin.ch/DE/Detail/Detail?pid=\"\n",
    "output_path = \"/Users/master/Downloads/medreg_2020/\"\n",
    "headers = {'user-agent': 'Mozilla/5.0 (Macintosh; Intel Mac OS X 10_11_6) AppleWebKit/537.36 (KHTML, like Gecko) Chrome/53.0.2785.143 Safari/537.36'}\n",
    "\n",
    "#Loop für das Erstellen und Abfragen der URL:\n",
    "for url_id in range(#200,150000): #deaktiviert um beim Ausführen der Zelle nicht das ganze Scraping anzustossen.\n",
    "    url_req = url_stamm + str(url_id) \n",
    "    #erstellt die Abfrage-URL für die Datensätze im range(x,y)\n",
    "    try:\n",
    "        r = requests.get(url_req, headers = headers, timeout=5)\n",
    "        with open(output_path + \"medreg_\" + str(url_id) + \".html\", 'w', encoding = 'utf-8') as f:\n",
    "            f.write(r.text)\n",
    "            f.close()\n",
    "\n",
    "            protokoll = [[url_req, r.status_code]] \n",
    "\n",
    "        with open(output_path + \"scrape2020_protokoll.csv\", 'a') as p:\n",
    "            writer = csv.writer(p, dialect = 'excel')\n",
    "            writer.writerows(protokoll)\n",
    "            \n",
    "        #sleep(random.uniform(0, 2))\n",
    "        #diese Funktion wurde deaktiviert, um die Abfrage möglichst kurz zu halten\n",
    "        \n",
    "        #mit dieser Funktion nimmt der Scraper den Dienst wieder auf, nachdem der Zugriff temporär gesperrt wird:\n",
    "    except: \n",
    "        r = requests.exceptions.ConnectionError\n",
    "        print('Connection refused')\n",
    "        time.sleep(180)\n",
    "        \n",
    "        continue\n",
    "        "
   ]
  },
  {
   "cell_type": "markdown",
   "metadata": {},
   "source": [
    "Das Scraping lief vom 11.1.2020, 23.26 bis 12.1.2020, 14:23 Uhr. \n",
    "\n",
    "Es gab dabei ein Hardwareproblem (USB-Netzwerkadapter stieg aus), dass aber mit Umstellung auf Wifi gelöst wurde. Der `try except`-Loop fing diesen Unterbruch gut auf und scrapte nach Behebung ohne Unterbruch weiter. \n",
    "\n",
    "Es wurden dabei insgesamt 149'742 html-Files im Downloadordner abgelegt. Theoretisch müssten es 149'799 Files sein. 57 Files fehlen also. \n"
   ]
  },
  {
   "cell_type": "markdown",
   "metadata": {},
   "source": [
    "Wir checken noch das Protokollfile auf die Fehlermeldungen. "
   ]
  },
  {
   "cell_type": "code",
   "execution_count": 6,
   "metadata": {},
   "outputs": [
    {
     "name": "stdout",
     "output_type": "stream",
     "text": [
      "/Users/master/Desktop/CAS_DJ/MedReg/MedReg Scraping\n"
     ]
    }
   ],
   "source": [
    "import os\n",
    "cwd = os.getcwd()\n",
    "print(cwd)"
   ]
  },
  {
   "cell_type": "code",
   "execution_count": 7,
   "metadata": {},
   "outputs": [],
   "source": [
    "import pandas as pd\n",
    "import numpy as np\n",
    "import datetime\n",
    "\n",
    "df = pd.read_csv('/Users/master/Desktop/CAS_DJ/MedReg/Scraping_2020/scrape2020_protokoll.csv')\n",
    "\n"
   ]
  },
  {
   "cell_type": "code",
   "execution_count": 9,
   "metadata": {
    "scrolled": true
   },
   "outputs": [
    {
     "data": {
      "text/plain": [
       "200    145411\n",
       "500      4330\n",
       "Name: 500, dtype: int64"
      ]
     },
     "execution_count": 9,
     "metadata": {},
     "output_type": "execute_result"
    }
   ],
   "source": [
    "df.iloc[ : , 1 ].value_counts()"
   ]
  },
  {
   "cell_type": "markdown",
   "metadata": {},
   "source": [
    "Wir haben also bei 145411 Einträgen einen Code 200 bekommen und bei 4330 einen Code 500. Weitere Codes wie 400 traten offenbar nicht auf. "
   ]
  },
  {
   "cell_type": "code",
   "execution_count": 13,
   "metadata": {},
   "outputs": [
    {
     "data": {
      "text/html": [
       "<div>\n",
       "<style scoped>\n",
       "    .dataframe tbody tr th:only-of-type {\n",
       "        vertical-align: middle;\n",
       "    }\n",
       "\n",
       "    .dataframe tbody tr th {\n",
       "        vertical-align: top;\n",
       "    }\n",
       "\n",
       "    .dataframe thead th {\n",
       "        text-align: right;\n",
       "    }\n",
       "</style>\n",
       "<table border=\"1\" class=\"dataframe\">\n",
       "  <thead>\n",
       "    <tr style=\"text-align: right;\">\n",
       "      <th></th>\n",
       "      <th>https://www.medregom.admin.ch/DE/Detail/Detail?pid=200</th>\n",
       "      <th>500</th>\n",
       "    </tr>\n",
       "  </thead>\n",
       "  <tbody>\n",
       "    <tr>\n",
       "      <th>0</th>\n",
       "      <td>https://www.medregom.admin.ch/DE/Detail/Detail...</td>\n",
       "      <td>500</td>\n",
       "    </tr>\n",
       "    <tr>\n",
       "      <th>1</th>\n",
       "      <td>https://www.medregom.admin.ch/DE/Detail/Detail...</td>\n",
       "      <td>500</td>\n",
       "    </tr>\n",
       "    <tr>\n",
       "      <th>2</th>\n",
       "      <td>https://www.medregom.admin.ch/DE/Detail/Detail...</td>\n",
       "      <td>200</td>\n",
       "    </tr>\n",
       "    <tr>\n",
       "      <th>3</th>\n",
       "      <td>https://www.medregom.admin.ch/DE/Detail/Detail...</td>\n",
       "      <td>200</td>\n",
       "    </tr>\n",
       "    <tr>\n",
       "      <th>4</th>\n",
       "      <td>https://www.medregom.admin.ch/DE/Detail/Detail...</td>\n",
       "      <td>500</td>\n",
       "    </tr>\n",
       "  </tbody>\n",
       "</table>\n",
       "</div>"
      ],
      "text/plain": [
       "  https://www.medregom.admin.ch/DE/Detail/Detail?pid=200  500\n",
       "0  https://www.medregom.admin.ch/DE/Detail/Detail...      500\n",
       "1  https://www.medregom.admin.ch/DE/Detail/Detail...      500\n",
       "2  https://www.medregom.admin.ch/DE/Detail/Detail...      200\n",
       "3  https://www.medregom.admin.ch/DE/Detail/Detail...      200\n",
       "4  https://www.medregom.admin.ch/DE/Detail/Detail...      500"
      ]
     },
     "execution_count": 13,
     "metadata": {},
     "output_type": "execute_result"
    }
   ],
   "source": [
    "df.head(5)"
   ]
  },
  {
   "cell_type": "code",
   "execution_count": 14,
   "metadata": {},
   "outputs": [
    {
     "data": {
      "text/html": [
       "<div>\n",
       "<style scoped>\n",
       "    .dataframe tbody tr th:only-of-type {\n",
       "        vertical-align: middle;\n",
       "    }\n",
       "\n",
       "    .dataframe tbody tr th {\n",
       "        vertical-align: top;\n",
       "    }\n",
       "\n",
       "    .dataframe thead th {\n",
       "        text-align: right;\n",
       "    }\n",
       "</style>\n",
       "<table border=\"1\" class=\"dataframe\">\n",
       "  <thead>\n",
       "    <tr style=\"text-align: right;\">\n",
       "      <th></th>\n",
       "      <th>https://www.medregom.admin.ch/DE/Detail/Detail?pid=200</th>\n",
       "      <th>500</th>\n",
       "    </tr>\n",
       "  </thead>\n",
       "  <tbody>\n",
       "    <tr>\n",
       "      <th>149736</th>\n",
       "      <td>https://www.medregom.admin.ch/DE/Detail/Detail...</td>\n",
       "      <td>200</td>\n",
       "    </tr>\n",
       "    <tr>\n",
       "      <th>149737</th>\n",
       "      <td>https://www.medregom.admin.ch/DE/Detail/Detail...</td>\n",
       "      <td>200</td>\n",
       "    </tr>\n",
       "    <tr>\n",
       "      <th>149738</th>\n",
       "      <td>https://www.medregom.admin.ch/DE/Detail/Detail...</td>\n",
       "      <td>200</td>\n",
       "    </tr>\n",
       "    <tr>\n",
       "      <th>149739</th>\n",
       "      <td>https://www.medregom.admin.ch/DE/Detail/Detail...</td>\n",
       "      <td>200</td>\n",
       "    </tr>\n",
       "    <tr>\n",
       "      <th>149740</th>\n",
       "      <td>https://www.medregom.admin.ch/DE/Detail/Detail...</td>\n",
       "      <td>200</td>\n",
       "    </tr>\n",
       "  </tbody>\n",
       "</table>\n",
       "</div>"
      ],
      "text/plain": [
       "       https://www.medregom.admin.ch/DE/Detail/Detail?pid=200  500\n",
       "149736  https://www.medregom.admin.ch/DE/Detail/Detail...      200\n",
       "149737  https://www.medregom.admin.ch/DE/Detail/Detail...      200\n",
       "149738  https://www.medregom.admin.ch/DE/Detail/Detail...      200\n",
       "149739  https://www.medregom.admin.ch/DE/Detail/Detail...      200\n",
       "149740  https://www.medregom.admin.ch/DE/Detail/Detail...      200"
      ]
     },
     "execution_count": 14,
     "metadata": {},
     "output_type": "execute_result"
    }
   ],
   "source": [
    "df.tail(5)"
   ]
  },
  {
   "cell_type": "markdown",
   "metadata": {},
   "source": [
    "Wie finde ich heraus, welche 57 Adresse nicht abgefragt wurden? \n",
    "\n",
    "Eine Idee: ich mache eine neue Spalte (oder Liste?), wo ich die Filenamen überprüfe. Überall wo der Filename sich um mehr als 1 ändert, gibt es einen Eintrag.\n",
    "\n"
   ]
  },
  {
   "cell_type": "code",
   "execution_count": 15,
   "metadata": {},
   "outputs": [
    {
     "data": {
      "text/html": [
       "<div>\n",
       "<style scoped>\n",
       "    .dataframe tbody tr th:only-of-type {\n",
       "        vertical-align: middle;\n",
       "    }\n",
       "\n",
       "    .dataframe tbody tr th {\n",
       "        vertical-align: top;\n",
       "    }\n",
       "\n",
       "    .dataframe thead th {\n",
       "        text-align: right;\n",
       "    }\n",
       "</style>\n",
       "<table border=\"1\" class=\"dataframe\">\n",
       "  <thead>\n",
       "    <tr style=\"text-align: right;\">\n",
       "      <th></th>\n",
       "      <th>https://www.medregom.admin.ch/DE/Detail/Detail?pid=200</th>\n",
       "      <th>500</th>\n",
       "    </tr>\n",
       "  </thead>\n",
       "  <tbody>\n",
       "    <tr>\n",
       "      <th>0</th>\n",
       "      <td>https://www.medregom.admin.ch/DE/Detail/Detail...</td>\n",
       "      <td>500</td>\n",
       "    </tr>\n",
       "    <tr>\n",
       "      <th>1</th>\n",
       "      <td>https://www.medregom.admin.ch/DE/Detail/Detail...</td>\n",
       "      <td>500</td>\n",
       "    </tr>\n",
       "    <tr>\n",
       "      <th>2</th>\n",
       "      <td>https://www.medregom.admin.ch/DE/Detail/Detail...</td>\n",
       "      <td>200</td>\n",
       "    </tr>\n",
       "    <tr>\n",
       "      <th>3</th>\n",
       "      <td>https://www.medregom.admin.ch/DE/Detail/Detail...</td>\n",
       "      <td>200</td>\n",
       "    </tr>\n",
       "    <tr>\n",
       "      <th>4</th>\n",
       "      <td>https://www.medregom.admin.ch/DE/Detail/Detail...</td>\n",
       "      <td>500</td>\n",
       "    </tr>\n",
       "    <tr>\n",
       "      <th>...</th>\n",
       "      <td>...</td>\n",
       "      <td>...</td>\n",
       "    </tr>\n",
       "    <tr>\n",
       "      <th>149736</th>\n",
       "      <td>https://www.medregom.admin.ch/DE/Detail/Detail...</td>\n",
       "      <td>200</td>\n",
       "    </tr>\n",
       "    <tr>\n",
       "      <th>149737</th>\n",
       "      <td>https://www.medregom.admin.ch/DE/Detail/Detail...</td>\n",
       "      <td>200</td>\n",
       "    </tr>\n",
       "    <tr>\n",
       "      <th>149738</th>\n",
       "      <td>https://www.medregom.admin.ch/DE/Detail/Detail...</td>\n",
       "      <td>200</td>\n",
       "    </tr>\n",
       "    <tr>\n",
       "      <th>149739</th>\n",
       "      <td>https://www.medregom.admin.ch/DE/Detail/Detail...</td>\n",
       "      <td>200</td>\n",
       "    </tr>\n",
       "    <tr>\n",
       "      <th>149740</th>\n",
       "      <td>https://www.medregom.admin.ch/DE/Detail/Detail...</td>\n",
       "      <td>200</td>\n",
       "    </tr>\n",
       "  </tbody>\n",
       "</table>\n",
       "<p>149741 rows × 2 columns</p>\n",
       "</div>"
      ],
      "text/plain": [
       "       https://www.medregom.admin.ch/DE/Detail/Detail?pid=200  500\n",
       "0       https://www.medregom.admin.ch/DE/Detail/Detail...      500\n",
       "1       https://www.medregom.admin.ch/DE/Detail/Detail...      500\n",
       "2       https://www.medregom.admin.ch/DE/Detail/Detail...      200\n",
       "3       https://www.medregom.admin.ch/DE/Detail/Detail...      200\n",
       "4       https://www.medregom.admin.ch/DE/Detail/Detail...      500\n",
       "...                                                   ...      ...\n",
       "149736  https://www.medregom.admin.ch/DE/Detail/Detail...      200\n",
       "149737  https://www.medregom.admin.ch/DE/Detail/Detail...      200\n",
       "149738  https://www.medregom.admin.ch/DE/Detail/Detail...      200\n",
       "149739  https://www.medregom.admin.ch/DE/Detail/Detail...      200\n",
       "149740  https://www.medregom.admin.ch/DE/Detail/Detail...      200\n",
       "\n",
       "[149741 rows x 2 columns]"
      ]
     },
     "execution_count": 15,
     "metadata": {},
     "output_type": "execute_result"
    }
   ],
   "source": [
    "df"
   ]
  },
  {
   "cell_type": "markdown",
   "metadata": {},
   "source": [
    "## Achtung Problem!\n",
    "Offenbar sind beim diesem Scraping nicht alle Datensätze korrekt heruntergeladen worden. Ein Vergleich mit den Datensätzen vom ersten Scraping 2019 und dem erneuten Scraping 2020 mit der Inhaltssuche von MacOS hat ergeben, dass beim erneuten Scraping von verschiedenen Fachrichtungen deutlich weniger Datensätze vorhanden sind. Wir müssen das Scraping also nochmals durchführen. "
   ]
  },
  {
   "cell_type": "code",
   "execution_count": null,
   "metadata": {},
   "outputs": [],
   "source": []
  }
 ],
 "metadata": {
  "kernelspec": {
   "display_name": "Python 3",
   "language": "python",
   "name": "python3"
  },
  "language_info": {
   "codemirror_mode": {
    "name": "ipython",
    "version": 3
   },
   "file_extension": ".py",
   "mimetype": "text/x-python",
   "name": "python",
   "nbconvert_exporter": "python",
   "pygments_lexer": "ipython3",
   "version": "3.7.6"
  }
 },
 "nbformat": 4,
 "nbformat_minor": 2
}
