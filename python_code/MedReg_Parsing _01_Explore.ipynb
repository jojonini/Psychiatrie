{
 "cells": [
  {
   "cell_type": "markdown",
   "metadata": {},
   "source": [
    "# MedReg Parsing erste Schritte\n",
    "\n",
    "Das Ziel: einen Teil der html-Daten aus dem Scraping des MedReg parsen und in Pandas testweise auswerten. \n",
    "\n",
    "Schritt 1: wir erstellen aus den gesamten Scraping-Daten einen neuen Ordner *MedReg_Scraped_data_20k* mit den Daten bis Eintrag 20'000 (19'789 Files).\n",
    "\n",
    "Wir sollten unter den 19789 Seiten eigentlich zwei Arten von Dateien haben. Solche mit Daten im html-File (Code 200) und solche bei denen das html-File nur aus einer Fehlermeldung besteht, da zur abgefragten Personen-ID kein Eintrag existiert (Code 500). \n"
   ]
  },
  {
   "cell_type": "code",
   "execution_count": 20,
   "metadata": {},
   "outputs": [],
   "source": [
    "from bs4 import BeautifulSoup\n",
    "import pandas as pd\n",
    "import time\n",
    "import os\n",
    "import re\n",
    "from tqdm import tqdm\n"
   ]
  },
  {
   "cell_type": "code",
   "execution_count": 21,
   "metadata": {},
   "outputs": [
    {
     "data": {
      "text/plain": [
       "19789"
      ]
     },
     "execution_count": 21,
     "metadata": {},
     "output_type": "execute_result"
    }
   ],
   "source": [
    "path = 'MedReg_Scraped_Data_20K/'\n",
    "\n",
    "file_list = os.listdir(path)\n",
    "len(file_list)"
   ]
  },
  {
   "cell_type": "markdown",
   "metadata": {},
   "source": [
    "Wir lesen ein File, von dem wir wissen, dass es Daten enthält. "
   ]
  },
  {
   "cell_type": "code",
   "execution_count": 22,
   "metadata": {},
   "outputs": [
    {
     "name": "stdout",
     "output_type": "stream",
     "text": [
      "<?xml version=\"1.0\" encoding=\"utf-8\"?>\n",
      "<div>\n",
      "<div style=\"min-height:51px\">\n",
      "<h3>Blaschegg-Honsalek, Irma <img class=\"geschlecht-icon\" src=\"../../Images/venus-solid.png\"/></h3>\n",
      "<div class=\"favorit detail\"> </div>\n",
      "<div style=\"clear:left\"></div>\n",
      "</div>\n",
      "<p>Nationalität: Deutschland (DE)<br/>Sprachkenntnisse: Deutsch<br/>GLN: 7601000677815<a class=\"info\" title=\"Global Location Number: eindeutige Nummer einer Medizinalperson (früher EAN) \"> </a><br/>UID: CHE103519026<a class=\"info\" title=\"UID = Unternehmens-Identifikationsnummer. Die UID dient der eindeutigen Identifikation von Unternehmen und wird jeder organisatorischen oder institutionellen Einheit, die aus rechtlichen, administrativen oder statistischen Gründen identifiziert werden muss (UID-Einheit), zugewiesen. Die UID ist die Nachfolge für die MWST-Nr. und die Handelsregisternummer und wird auch von weiteren Verwaltungsregistern, wie z.B. den AHV-Ausgleichskassen geführt.\"> </a></p>\n",
      "</div>\n",
      "<div class=\"right\">\n",
      "<div id=\"noresult_overlay\">\n",
      "<div id=\"noresult_message\"></div>\n",
      "</div>\n",
      "<div id=\"map\"></div>\n",
      "</div>\n",
      "<div class=\"left\">\n",
      "<ul class=\"detail-navigation\">\n",
      "<li id=\"1\">Ärztin/Arzt</li>\n",
      "</ul>\n",
      "<div class=\"ac-detail-data\" id=\"detail_1\">\n",
      "<div>\n",
      "<table class=\"detail-table\">\n",
      "<thead>\n",
      "<tr>\n",
      "<td class=\"head\">Beruf</td>\n",
      "<td class=\"head\">Erteilungsjahr</td>\n",
      "<td class=\"head\">Erteilungsland</td>\n",
      "<td class=\"head\">Typ</td>\n",
      "</tr>\n",
      "</thead>\n",
      "<tbody>\n",
      "<tr>\n",
      "<td>Ärztin/Arzt</td>\n",
      "<td>1969</td>\n",
      "<td>Deutschland</td>\n",
      "<td>Anerkennung<a class=\"info\" title=\"Datum der Anerkennung des ausländischen Titels durch die Schweiz: Datum nach 1.6.2002 Anerkennung für EU/EFTA-Bürger durch die Bundesbehörden. Datum vor 1.6.2002 Bestätigung durch den Kanton.\"> </a>\n",
      "                    (13.08.2002)\n",
      "                  </td>\n",
      "</tr>\n",
      "<tr>\n",
      "<th class=\"in-table-head\">Weiterbildungstitel</th>\n",
      "<th></th>\n",
      "<th></th>\n",
      "<th></th>\n",
      "</tr>\n",
      "<tr>\n",
      "<td>Psychiatrie und Psychotherapie</td>\n",
      "<td>2002</td>\n",
      "<td>Schweiz</td>\n",
      "<td>Eidgenössischer Weiterbildungstitel</td>\n",
      "</tr>\n",
      "<tr>\n",
      "<th class=\"in-table-head\">Weitere Qualifikationen (privatrechtliche Weiterbildung)</th>\n",
      "<th></th>\n",
      "<th></th>\n",
      "<th></th>\n",
      "</tr>\n",
      "<tr>\n",
      "<td colspan=\"4\">Keine Angaben vorhanden</td>\n",
      "</tr>\n",
      "</tbody>\n",
      "</table>\n",
      "</div>\n",
      "<hr/>\n",
      "<h4>Status der Berufsausübungsbewilligung<a class=\"info\" title=\"Erteilt, aktiv = gültige Berufsausübungsbewilligung für diesen Kanton, aktiv / Erteilt, inaktiv = gültige Berufsausübungsbewilligung für diesen Kanton, inaktiv / Keine Bewilligung, Bewilligung entzogen = Berufsausübungsbewilligung in diesem Kanton entzogen / Keine Bewilligung, Bewilligung verweigert = Berufsausübungsbewilligung in diesem Kanton verweigert / Keine Bewilligung = keine Bewilligung beantragt oder Berufsausübungsverbot\"> </a></h4>\n",
      "<h4>Erteilt</h4>\n",
      "<ol style=\"list-style-type: circle\">\n",
      "<li>Zürich\n",
      "                (2012), aktiv, MedBG, privatwirtschaftliche Berufsausübung in eigener fachlicher Verantwortung</li>\n",
      "</ol>\n",
      "<h4>Direktabgabe von Arzneimitteln gemäss kant. Bestimmungen (Selbstdispensation)<a class=\"info\" title=\"Keine Selbstdispensation: Darf nur in Sonderfällen (z.B. Notfällen) Medikamente abgeben / Keine Angaben vorhanden: keine kantonalen Daten vorhanden /  Bewilligung erteilt für Adresse(n): Darf Medikamente abgeben, d.h. ist zum Führen einer Privatapotheke berechtigt. / Es gelten die kantonalen Bestimmungen.\"> </a></h4>keine Selbstdispensation<h4>Bezug von Betäubungsmitteln<a class=\"info\" title=\"Dieses Feld dient zur Information der Pharmagrossisten für die Belieferung \"> </a></h4>Berechtigung erteilt für Kanton(e): Zürich<hr/><h4>Adresse(n)</h4><ol class=\"address\"><li><span class=\"outdent\">Bewilligungskanton: Zürich</span></li><li class=\"address-item\" title=\"Dufourstr. 169,8008 Zürich,ZH\"><span class=\"outdent\">A.\n",
      "            </span><div>-<br/>Dufourstr. 169<br/>8008 Zürich<br/>UID: <a class=\"info\" title=\"UID der juristischen Person/Betrieb welche dieser Adresse entspricht.\"> </a></div></li></ol></div>\n",
      "</div>\n",
      "<div class=\"clearRight\"></div>\n",
      "<script type=\"text/javascript\">\n",
      "\t$(document).ready(function() {\n",
      "\t\ttry {\n",
      "\t\t\tvar _json_test = JSON;\n",
      "\t\t} catch (e) {\n",
      "\t\t\tdocument.createStyleSheet('/Content/ie8_compatview.css');\n",
      "\t\t}\n",
      "\t});\n",
      "</script>\n",
      "\n"
     ]
    }
   ],
   "source": [
    "file = open(path + file_list[4805], 'r')\n",
    "text = file.read()\n",
    "soup = BeautifulSoup(text, 'html.parser')\n",
    "print(soup)"
   ]
  },
  {
   "cell_type": "code",
   "execution_count": 7,
   "metadata": {
    "scrolled": true
   },
   "outputs": [
    {
     "data": {
      "text/plain": [
       "'Blaschegg-Honsalek, Irma\\xa0'"
      ]
     },
     "execution_count": 7,
     "metadata": {},
     "output_type": "execute_result"
    }
   ],
   "source": [
    "name = soup.find('h3').text\n",
    "name"
   ]
  },
  {
   "cell_type": "code",
   "execution_count": 8,
   "metadata": {},
   "outputs": [
    {
     "data": {
      "text/plain": [
       "'Blaschegg-Honsalek, Irma'"
      ]
     },
     "execution_count": 8,
     "metadata": {},
     "output_type": "execute_result"
    }
   ],
   "source": [
    "name = soup.find('h3').text.replace('\\xa0','')\n",
    "name"
   ]
  },
  {
   "cell_type": "markdown",
   "metadata": {},
   "source": [
    "Nächste Aufgabe: das Geschlecht"
   ]
  },
  {
   "cell_type": "code",
   "execution_count": 144,
   "metadata": {},
   "outputs": [
    {
     "name": "stdout",
     "output_type": "stream",
     "text": [
      "Blaschegg-Honsalek, Irma \n"
     ]
    }
   ],
   "source": [
    "geschlecht = get_gender(soup)#soup.find('h3').text.replace('*/venus-solid.png', 'w')\n",
    "print(geschlecht)"
   ]
  },
  {
   "cell_type": "markdown",
   "metadata": {},
   "source": [
    "Der Name ist jetzt schön. Doch das Geschlechtslogo wird nicht erkannt. \n",
    "\n",
    "Nochmals:\n"
   ]
  },
  {
   "cell_type": "code",
   "execution_count": 7,
   "metadata": {
    "scrolled": false
   },
   "outputs": [
    {
     "data": {
      "text/plain": [
       "<h3>Blaschegg-Honsalek, Irma <img class=\"geschlecht-icon\" src=\"../../Images/venus-solid.png\"/></h3>"
      ]
     },
     "execution_count": 7,
     "metadata": {},
     "output_type": "execute_result"
    }
   ],
   "source": [
    "name_geschlecht = soup.find('h3')\n",
    "name_geschlecht\n",
    "                                        "
   ]
  },
  {
   "cell_type": "code",
   "execution_count": null,
   "metadata": {},
   "outputs": [],
   "source": [
    "geschlecht = name_geschlecht(replace)"
   ]
  },
  {
   "cell_type": "code",
   "execution_count": 154,
   "metadata": {},
   "outputs": [
    {
     "ename": "TypeError",
     "evalue": "expected string or bytes-like object",
     "output_type": "error",
     "traceback": [
      "\u001b[0;31m---------------------------------------------------------------------------\u001b[0m",
      "\u001b[0;31mTypeError\u001b[0m                                 Traceback (most recent call last)",
      "\u001b[0;32m<ipython-input-154-ea64f32eca96>\u001b[0m in \u001b[0;36m<module>\u001b[0;34m\u001b[0m\n\u001b[0;32m----> 1\u001b[0;31m \u001b[0mgeschlecht\u001b[0m \u001b[0;34m=\u001b[0m \u001b[0mre\u001b[0m\u001b[0;34m.\u001b[0m\u001b[0msub\u001b[0m\u001b[0;34m(\u001b[0m\u001b[0;34mr'venus'\u001b[0m\u001b[0;34m,\u001b[0m \u001b[0;34m'w'\u001b[0m\u001b[0;34m,\u001b[0m \u001b[0mname_geschlecht\u001b[0m\u001b[0;34m)\u001b[0m\u001b[0;34m\u001b[0m\u001b[0;34m\u001b[0m\u001b[0m\n\u001b[0m\u001b[1;32m      2\u001b[0m \u001b[0mprint\u001b[0m\u001b[0;34m(\u001b[0m\u001b[0mgeschlecht\u001b[0m\u001b[0;34m)\u001b[0m\u001b[0;34m\u001b[0m\u001b[0;34m\u001b[0m\u001b[0m\n",
      "\u001b[0;32m/usr/local/Cellar/python/3.7.4_1/Frameworks/Python.framework/Versions/3.7/lib/python3.7/re.py\u001b[0m in \u001b[0;36msub\u001b[0;34m(pattern, repl, string, count, flags)\u001b[0m\n\u001b[1;32m    190\u001b[0m     \u001b[0ma\u001b[0m \u001b[0mcallable\u001b[0m\u001b[0;34m,\u001b[0m \u001b[0mit\u001b[0m\u001b[0;31m'\u001b[0m\u001b[0ms\u001b[0m \u001b[0mpassed\u001b[0m \u001b[0mthe\u001b[0m \u001b[0mMatch\u001b[0m \u001b[0mobject\u001b[0m \u001b[0;32mand\u001b[0m \u001b[0mmust\u001b[0m \u001b[0;32mreturn\u001b[0m\u001b[0;34m\u001b[0m\u001b[0;34m\u001b[0m\u001b[0m\n\u001b[1;32m    191\u001b[0m     a replacement string to be used.\"\"\"\n\u001b[0;32m--> 192\u001b[0;31m     \u001b[0;32mreturn\u001b[0m \u001b[0m_compile\u001b[0m\u001b[0;34m(\u001b[0m\u001b[0mpattern\u001b[0m\u001b[0;34m,\u001b[0m \u001b[0mflags\u001b[0m\u001b[0;34m)\u001b[0m\u001b[0;34m.\u001b[0m\u001b[0msub\u001b[0m\u001b[0;34m(\u001b[0m\u001b[0mrepl\u001b[0m\u001b[0;34m,\u001b[0m \u001b[0mstring\u001b[0m\u001b[0;34m,\u001b[0m \u001b[0mcount\u001b[0m\u001b[0;34m)\u001b[0m\u001b[0;34m\u001b[0m\u001b[0;34m\u001b[0m\u001b[0m\n\u001b[0m\u001b[1;32m    193\u001b[0m \u001b[0;34m\u001b[0m\u001b[0m\n\u001b[1;32m    194\u001b[0m \u001b[0;32mdef\u001b[0m \u001b[0msubn\u001b[0m\u001b[0;34m(\u001b[0m\u001b[0mpattern\u001b[0m\u001b[0;34m,\u001b[0m \u001b[0mrepl\u001b[0m\u001b[0;34m,\u001b[0m \u001b[0mstring\u001b[0m\u001b[0;34m,\u001b[0m \u001b[0mcount\u001b[0m\u001b[0;34m=\u001b[0m\u001b[0;36m0\u001b[0m\u001b[0;34m,\u001b[0m \u001b[0mflags\u001b[0m\u001b[0;34m=\u001b[0m\u001b[0;36m0\u001b[0m\u001b[0;34m)\u001b[0m\u001b[0;34m:\u001b[0m\u001b[0;34m\u001b[0m\u001b[0;34m\u001b[0m\u001b[0m\n",
      "\u001b[0;31mTypeError\u001b[0m: expected string or bytes-like object"
     ]
    }
   ],
   "source": [
    "geschlecht = re.sub(r'venus', 'w', name_geschlecht)\n",
    "print(geschlecht)"
   ]
  },
  {
   "cell_type": "code",
   "execution_count": 114,
   "metadata": {
    "scrolled": true
   },
   "outputs": [
    {
     "name": "stdout",
     "output_type": "stream",
     "text": [
      "None\n"
     ]
    }
   ],
   "source": [
    "geschlecht = re.search(r'(?=-solid.png)\\w-', str(name_geschlecht))\n",
    "print(geschlecht)\n",
    "\n",
    "#\\w\\b(?=-solid) funktioniert auch nicht\n",
    "#m = re.search(r'(?<=-)\\w+', 'spam-egg')"
   ]
  },
  {
   "cell_type": "code",
   "execution_count": 9,
   "metadata": {},
   "outputs": [],
   "source": [
    "regex_sex = r\"^.+$-solid.png\"\n",
    "re.search(regex_sex, str(name_geschlecht))"
   ]
  },
  {
   "cell_type": "code",
   "execution_count": null,
   "metadata": {},
   "outputs": [],
   "source": [
    "Neuer Anlauf, mit einer Funktion:"
   ]
  },
  {
   "cell_type": "code",
   "execution_count": 27,
   "metadata": {},
   "outputs": [],
   "source": [
    "def get_gender(soup):\n",
    "    img_source = soup.find('h3').find(\"img\")[\"src\"]\n",
    "    if \"venus\" in img_source:\n",
    "        return \"w\"\n",
    "    else:\n",
    "        return \"m\""
   ]
  },
  {
   "cell_type": "code",
   "execution_count": 28,
   "metadata": {},
   "outputs": [
    {
     "data": {
      "text/plain": [
       "'w'"
      ]
     },
     "execution_count": 28,
     "metadata": {},
     "output_type": "execute_result"
    }
   ],
   "source": [
    "get_gender(soup)"
   ]
  },
  {
   "cell_type": "markdown",
   "metadata": {},
   "source": [
    "Zum nächsten Tag:"
   ]
  },
  {
   "cell_type": "code",
   "execution_count": 52,
   "metadata": {},
   "outputs": [
    {
     "data": {
      "text/plain": [
       "'Nationalität: Deutschland (DE)Sprachkenntnisse: DeutschGLN: 7601000677815\\xa0UID: CHE103519026\\xa0'"
      ]
     },
     "execution_count": 52,
     "metadata": {},
     "output_type": "execute_result"
    }
   ],
   "source": [
    "nation = soup.find('p').text\n",
    "nation"
   ]
  },
  {
   "cell_type": "markdown",
   "metadata": {},
   "source": [
    "Ok, damit wollen wir mal leben, bevor wir uns auch hier noch ewig aufhalten. \n",
    "\n",
    "Weiter an die Daten über den Beruf:"
   ]
  },
  {
   "cell_type": "code",
   "execution_count": 75,
   "metadata": {},
   "outputs": [
    {
     "data": {
      "text/plain": [
       "[]"
      ]
     },
     "execution_count": 75,
     "metadata": {},
     "output_type": "execute_result"
    }
   ],
   "source": [
    "beruf = soup.find_all('<li id=\"1\">')\n",
    "beruf"
   ]
  },
  {
   "cell_type": "markdown",
   "metadata": {},
   "source": [
    "Auch hier wird's schwierig. Nochmals kurz von vorne, gemäss bs4-Dokumentation. "
   ]
  },
  {
   "cell_type": "code",
   "execution_count": 76,
   "metadata": {},
   "outputs": [
    {
     "name": "stdout",
     "output_type": "stream",
     "text": [
      "<?xml version=\"1.0\" encoding=\"utf-8\"?>\n",
      "<div>\n",
      " <div style=\"min-height:51px\">\n",
      "  <h3>\n",
      "   Blaschegg-Honsalek, Irma\n",
      "   <img class=\"geschlecht-icon\" src=\"../../Images/venus-solid.png\"/>\n",
      "  </h3>\n",
      "  <div class=\"favorit detail\">\n",
      "  </div>\n",
      "  <div style=\"clear:left\">\n",
      "  </div>\n",
      " </div>\n",
      " <p>\n",
      "  Nationalität: Deutschland (DE)\n",
      "  <br/>\n",
      "  Sprachkenntnisse: Deutsch\n",
      "  <br/>\n",
      "  GLN: 7601000677815\n",
      "  <a class=\"info\" title=\"Global Location Number: eindeutige Nummer einer Medizinalperson (früher EAN) \">\n",
      "  </a>\n",
      "  <br/>\n",
      "  UID: CHE103519026\n",
      "  <a class=\"info\" title=\"UID = Unternehmens-Identifikationsnummer. Die UID dient der eindeutigen Identifikation von Unternehmen und wird jeder organisatorischen oder institutionellen Einheit, die aus rechtlichen, administrativen oder statistischen Gründen identifiziert werden muss (UID-Einheit), zugewiesen. Die UID ist die Nachfolge für die MWST-Nr. und die Handelsregisternummer und wird auch von weiteren Verwaltungsregistern, wie z.B. den AHV-Ausgleichskassen geführt.\">\n",
      "  </a>\n",
      " </p>\n",
      "</div>\n",
      "<div class=\"right\">\n",
      " <div id=\"noresult_overlay\">\n",
      "  <div id=\"noresult_message\">\n",
      "  </div>\n",
      " </div>\n",
      " <div id=\"map\">\n",
      " </div>\n",
      "</div>\n",
      "<div class=\"left\">\n",
      " <ul class=\"detail-navigation\">\n",
      "  <li id=\"1\">\n",
      "   Ärztin/Arzt\n",
      "  </li>\n",
      " </ul>\n",
      " <div class=\"ac-detail-data\" id=\"detail_1\">\n",
      "  <div>\n",
      "   <table class=\"detail-table\">\n",
      "    <thead>\n",
      "     <tr>\n",
      "      <td class=\"head\">\n",
      "       Beruf\n",
      "      </td>\n",
      "      <td class=\"head\">\n",
      "       Erteilungsjahr\n",
      "      </td>\n",
      "      <td class=\"head\">\n",
      "       Erteilungsland\n",
      "      </td>\n",
      "      <td class=\"head\">\n",
      "       Typ\n",
      "      </td>\n",
      "     </tr>\n",
      "    </thead>\n",
      "    <tbody>\n",
      "     <tr>\n",
      "      <td>\n",
      "       Ärztin/Arzt\n",
      "      </td>\n",
      "      <td>\n",
      "       1969\n",
      "      </td>\n",
      "      <td>\n",
      "       Deutschland\n",
      "      </td>\n",
      "      <td>\n",
      "       Anerkennung\n",
      "       <a class=\"info\" title=\"Datum der Anerkennung des ausländischen Titels durch die Schweiz: Datum nach 1.6.2002 Anerkennung für EU/EFTA-Bürger durch die Bundesbehörden. Datum vor 1.6.2002 Bestätigung durch den Kanton.\">\n",
      "       </a>\n",
      "       (13.08.2002)\n",
      "      </td>\n",
      "     </tr>\n",
      "     <tr>\n",
      "      <th class=\"in-table-head\">\n",
      "       Weiterbildungstitel\n",
      "      </th>\n",
      "      <th>\n",
      "      </th>\n",
      "      <th>\n",
      "      </th>\n",
      "      <th>\n",
      "      </th>\n",
      "     </tr>\n",
      "     <tr>\n",
      "      <td>\n",
      "       Psychiatrie und Psychotherapie\n",
      "      </td>\n",
      "      <td>\n",
      "       2002\n",
      "      </td>\n",
      "      <td>\n",
      "       Schweiz\n",
      "      </td>\n",
      "      <td>\n",
      "       Eidgenössischer Weiterbildungstitel\n",
      "      </td>\n",
      "     </tr>\n",
      "     <tr>\n",
      "      <th class=\"in-table-head\">\n",
      "       Weitere Qualifikationen (privatrechtliche Weiterbildung)\n",
      "      </th>\n",
      "      <th>\n",
      "      </th>\n",
      "      <th>\n",
      "      </th>\n",
      "      <th>\n",
      "      </th>\n",
      "     </tr>\n",
      "     <tr>\n",
      "      <td colspan=\"4\">\n",
      "       Keine Angaben vorhanden\n",
      "      </td>\n",
      "     </tr>\n",
      "    </tbody>\n",
      "   </table>\n",
      "  </div>\n",
      "  <hr/>\n",
      "  <h4>\n",
      "   Status der Berufsausübungsbewilligung\n",
      "   <a class=\"info\" title=\"Erteilt, aktiv = gültige Berufsausübungsbewilligung für diesen Kanton, aktiv / Erteilt, inaktiv = gültige Berufsausübungsbewilligung für diesen Kanton, inaktiv / Keine Bewilligung, Bewilligung entzogen = Berufsausübungsbewilligung in diesem Kanton entzogen / Keine Bewilligung, Bewilligung verweigert = Berufsausübungsbewilligung in diesem Kanton verweigert / Keine Bewilligung = keine Bewilligung beantragt oder Berufsausübungsverbot\">\n",
      "   </a>\n",
      "  </h4>\n",
      "  <h4>\n",
      "   Erteilt\n",
      "  </h4>\n",
      "  <ol style=\"list-style-type: circle\">\n",
      "   <li>\n",
      "    Zürich\n",
      "                (2012), aktiv, MedBG, privatwirtschaftliche Berufsausübung in eigener fachlicher Verantwortung\n",
      "   </li>\n",
      "  </ol>\n",
      "  <h4>\n",
      "   Direktabgabe von Arzneimitteln gemäss kant. Bestimmungen (Selbstdispensation)\n",
      "   <a class=\"info\" title=\"Keine Selbstdispensation: Darf nur in Sonderfällen (z.B. Notfällen) Medikamente abgeben / Keine Angaben vorhanden: keine kantonalen Daten vorhanden /  Bewilligung erteilt für Adresse(n): Darf Medikamente abgeben, d.h. ist zum Führen einer Privatapotheke berechtigt. / Es gelten die kantonalen Bestimmungen.\">\n",
      "   </a>\n",
      "  </h4>\n",
      "  keine Selbstdispensation\n",
      "  <h4>\n",
      "   Bezug von Betäubungsmitteln\n",
      "   <a class=\"info\" title=\"Dieses Feld dient zur Information der Pharmagrossisten für die Belieferung \">\n",
      "   </a>\n",
      "  </h4>\n",
      "  Berechtigung erteilt für Kanton(e): Zürich\n",
      "  <hr/>\n",
      "  <h4>\n",
      "   Adresse(n)\n",
      "  </h4>\n",
      "  <ol class=\"address\">\n",
      "   <li>\n",
      "    <span class=\"outdent\">\n",
      "     Bewilligungskanton: Zürich\n",
      "    </span>\n",
      "   </li>\n",
      "   <li class=\"address-item\" title=\"Dufourstr. 169,8008 Zürich,ZH\">\n",
      "    <span class=\"outdent\">\n",
      "     A.\n",
      "    </span>\n",
      "    <div>\n",
      "     -\n",
      "     <br/>\n",
      "     Dufourstr. 169\n",
      "     <br/>\n",
      "     8008 Zürich\n",
      "     <br/>\n",
      "     UID:\n",
      "     <a class=\"info\" title=\"UID der juristischen Person/Betrieb welche dieser Adresse entspricht.\">\n",
      "     </a>\n",
      "    </div>\n",
      "   </li>\n",
      "  </ol>\n",
      " </div>\n",
      "</div>\n",
      "<div class=\"clearRight\">\n",
      "</div>\n",
      "<script type=\"text/javascript\">\n",
      " $(document).ready(function() {\n",
      "\t\ttry {\n",
      "\t\t\tvar _json_test = JSON;\n",
      "\t\t} catch (e) {\n",
      "\t\t\tdocument.createStyleSheet('/Content/ie8_compatview.css');\n",
      "\t\t}\n",
      "\t});\n",
      "</script>\n",
      "\n"
     ]
    }
   ],
   "source": [
    "from bs4 import BeautifulSoup\n",
    "soup = BeautifulSoup(text, 'html.parser')\n",
    "print(soup.prettify())\n"
   ]
  },
  {
   "cell_type": "code",
   "execution_count": 80,
   "metadata": {},
   "outputs": [
    {
     "data": {
      "text/plain": [
       "<p>Nationalität: Deutschland (DE)<br/>Sprachkenntnisse: Deutsch<br/>GLN: 7601000677815<a class=\"info\" title=\"Global Location Number: eindeutige Nummer einer Medizinalperson (früher EAN) \"> </a><br/>UID: CHE103519026<a class=\"info\" title=\"UID = Unternehmens-Identifikationsnummer. Die UID dient der eindeutigen Identifikation von Unternehmen und wird jeder organisatorischen oder institutionellen Einheit, die aus rechtlichen, administrativen oder statistischen Gründen identifiziert werden muss (UID-Einheit), zugewiesen. Die UID ist die Nachfolge für die MWST-Nr. und die Handelsregisternummer und wird auch von weiteren Verwaltungsregistern, wie z.B. den AHV-Ausgleichskassen geführt.\"> </a></p>"
      ]
     },
     "execution_count": 80,
     "metadata": {},
     "output_type": "execute_result"
    }
   ],
   "source": [
    "soup.p"
   ]
  },
  {
   "cell_type": "code",
   "execution_count": 82,
   "metadata": {},
   "outputs": [
    {
     "data": {
      "text/plain": [
       "<a class=\"info\" title=\"Global Location Number: eindeutige Nummer einer Medizinalperson (früher EAN) \"> </a>"
      ]
     },
     "execution_count": 82,
     "metadata": {},
     "output_type": "execute_result"
    }
   ],
   "source": [
    "soup.a"
   ]
  },
  {
   "cell_type": "code",
   "execution_count": 16,
   "metadata": {},
   "outputs": [
    {
     "data": {
      "text/plain": [
       "[<a class=\"info\" title=\"Global Location Number: eindeutige Nummer einer Medizinalperson (früher EAN) \"> </a>,\n",
       " <a class=\"info\" title=\"UID = Unternehmens-Identifikationsnummer. Die UID dient der eindeutigen Identifikation von Unternehmen und wird jeder organisatorischen oder institutionellen Einheit, die aus rechtlichen, administrativen oder statistischen Gründen identifiziert werden muss (UID-Einheit), zugewiesen. Die UID ist die Nachfolge für die MWST-Nr. und die Handelsregisternummer und wird auch von weiteren Verwaltungsregistern, wie z.B. den AHV-Ausgleichskassen geführt.\"> </a>,\n",
       " <a class=\"info\" title=\"Datum der Anerkennung des ausländischen Titels durch die Schweiz: Datum nach 1.6.2002 Anerkennung für EU/EFTA-Bürger durch die Bundesbehörden. Datum vor 1.6.2002 Bestätigung durch den Kanton.\"> </a>,\n",
       " <a class=\"info\" title=\"Erteilt, aktiv = gültige Berufsausübungsbewilligung für diesen Kanton, aktiv / Erteilt, inaktiv = gültige Berufsausübungsbewilligung für diesen Kanton, inaktiv / Keine Bewilligung, Bewilligung entzogen = Berufsausübungsbewilligung in diesem Kanton entzogen / Keine Bewilligung, Bewilligung verweigert = Berufsausübungsbewilligung in diesem Kanton verweigert / Keine Bewilligung = keine Bewilligung beantragt oder Berufsausübungsverbot\"> </a>,\n",
       " <a class=\"info\" title=\"Keine Selbstdispensation: Darf nur in Sonderfällen (z.B. Notfällen) Medikamente abgeben / Keine Angaben vorhanden: keine kantonalen Daten vorhanden /  Bewilligung erteilt für Adresse(n): Darf Medikamente abgeben, d.h. ist zum Führen einer Privatapotheke berechtigt. / Es gelten die kantonalen Bestimmungen.\"> </a>,\n",
       " <a class=\"info\" title=\"Dieses Feld dient zur Information der Pharmagrossisten für die Belieferung \"> </a>,\n",
       " <a class=\"info\" title=\"UID der juristischen Person/Betrieb welche dieser Adresse entspricht.\"> </a>]"
      ]
     },
     "execution_count": 16,
     "metadata": {},
     "output_type": "execute_result"
    }
   ],
   "source": [
    "soup.find_all('a')"
   ]
  },
  {
   "cell_type": "code",
   "execution_count": 73,
   "metadata": {},
   "outputs": [
    {
     "data": {
      "text/plain": [
       "[<ol style=\"list-style-type: circle\">\n",
       " <li>Zürich\n",
       "                 (2012), aktiv, MedBG, privatwirtschaftliche Berufsausübung in eigener fachlicher Verantwortung</li>\n",
       " </ol>,\n",
       " <ol class=\"address\"><li><span class=\"outdent\">Bewilligungskanton: Zürich</span></li><li class=\"address-item\" title=\"Dufourstr. 169,8008 Zürich,ZH\"><span class=\"outdent\">A.\n",
       "             </span><div>-<br/>Dufourstr. 169<br/>8008 Zürich<br/>UID: <a class=\"info\" title=\"UID der juristischen Person/Betrieb welche dieser Adresse entspricht.\"> </a></div></li></ol>]"
      ]
     },
     "execution_count": 73,
     "metadata": {},
     "output_type": "execute_result"
    }
   ],
   "source": [
    "soup.find_all(\"ol\")"
   ]
  },
  {
   "cell_type": "markdown",
   "metadata": {},
   "source": [
    "Ok, uns interessiert das letzte ol-Element mit der Adressse. Einfach mit Index [-1] direkt ansteuern. Dann beim Tag *li* direkt die *class='adress-item'* ansteuern, und zwar das erste Element *title. \n",
    "\n",
    "Mit Plottis Hilfe sieht das dann so aus:"
   ]
  },
  {
   "cell_type": "code",
   "execution_count": 72,
   "metadata": {},
   "outputs": [
    {
     "data": {
      "text/plain": [
       "'Dufourstr. 169,8008 Zürich,ZH'"
      ]
     },
     "execution_count": 72,
     "metadata": {},
     "output_type": "execute_result"
    }
   ],
   "source": [
    "soup.find_all(\"ol\")[-1].find_all(\"li\", {\"class\": \"address-item\"})[0][\"title\"]"
   ]
  },
  {
   "cell_type": "markdown",
   "metadata": {},
   "source": [
    "Der Status der Berufsausübungsbewilligung ist im Tag h4. "
   ]
  },
  {
   "cell_type": "code",
   "execution_count": 35,
   "metadata": {},
   "outputs": [
    {
     "data": {
      "text/plain": [
       "'Erteilt aktiv '"
      ]
     },
     "execution_count": 35,
     "metadata": {},
     "output_type": "execute_result"
    }
   ],
   "source": [
    "status = soup.find('h4').find(\"a\")[\"title\"].split(\",\")\n",
    "(status[0] + status[1]).split(\"=\")[0]"
   ]
  },
  {
   "cell_type": "markdown",
   "metadata": {},
   "source": [
    "Oder vielleicht auch separat?\n"
   ]
  },
  {
   "cell_type": "code",
   "execution_count": 75,
   "metadata": {},
   "outputs": [
    {
     "data": {
      "text/plain": [
       "'Erteilt'"
      ]
     },
     "execution_count": 75,
     "metadata": {},
     "output_type": "execute_result"
    }
   ],
   "source": [
    "status = soup.find('h4').find(\"a\")[\"title\"].split(\",\")\n",
    "status[0]"
   ]
  },
  {
   "cell_type": "code",
   "execution_count": 81,
   "metadata": {},
   "outputs": [
    {
     "data": {
      "text/plain": [
       "' aktiv'"
      ]
     },
     "execution_count": 81,
     "metadata": {},
     "output_type": "execute_result"
    }
   ],
   "source": [
    "status[1].split(' = ')[0]"
   ]
  },
  {
   "cell_type": "markdown",
   "metadata": {},
   "source": [
    "Wie kommen wir an die Berufs- und Ausbildungsdaten?"
   ]
  },
  {
   "cell_type": "code",
   "execution_count": 102,
   "metadata": {},
   "outputs": [
    {
     "data": {
      "text/plain": [
       "<tbody>\n",
       "<tr>\n",
       "<td>Ärztin/Arzt</td>\n",
       "<td>1969</td>\n",
       "<td>Deutschland</td>\n",
       "<td>Anerkennung<a class=\"info\" title=\"Datum der Anerkennung des ausländischen Titels durch die Schweiz: Datum nach 1.6.2002 Anerkennung für EU/EFTA-Bürger durch die Bundesbehörden. Datum vor 1.6.2002 Bestätigung durch den Kanton.\"> </a>\n",
       "                    (13.08.2002)\n",
       "                  </td>\n",
       "</tr>\n",
       "<tr>\n",
       "<th class=\"in-table-head\">Weiterbildungstitel</th>\n",
       "<th></th>\n",
       "<th></th>\n",
       "<th></th>\n",
       "</tr>\n",
       "<tr>\n",
       "<td>Psychiatrie und Psychotherapie</td>\n",
       "<td>2002</td>\n",
       "<td>Schweiz</td>\n",
       "<td>Eidgenössischer Weiterbildungstitel</td>\n",
       "</tr>\n",
       "<tr>\n",
       "<th class=\"in-table-head\">Weitere Qualifikationen (privatrechtliche Weiterbildung)</th>\n",
       "<th></th>\n",
       "<th></th>\n",
       "<th></th>\n",
       "</tr>\n",
       "<tr>\n",
       "<td colspan=\"4\">Keine Angaben vorhanden</td>\n",
       "</tr>\n",
       "</tbody>"
      ]
     },
     "execution_count": 102,
     "metadata": {},
     "output_type": "execute_result"
    }
   ],
   "source": [
    "soup.find('tbody')"
   ]
  },
  {
   "cell_type": "markdown",
   "metadata": {},
   "source": [
    "Ok, endlich gefunden. Mit dem Tag \"tbody\" komme ich an die weiteren Daten. Wir versuchen uns weiter durch die durch td- und tr-Tags getrennten Daten zu kämpfen. "
   ]
  },
  {
   "cell_type": "code",
   "execution_count": 103,
   "metadata": {},
   "outputs": [],
   "source": [
    "berufsdaten = soup.find('tbody')"
   ]
  },
  {
   "cell_type": "code",
   "execution_count": 110,
   "metadata": {},
   "outputs": [
    {
     "data": {
      "text/plain": [
       "<td>Ärztin/Arzt</td>"
      ]
     },
     "execution_count": 110,
     "metadata": {},
     "output_type": "execute_result"
    }
   ],
   "source": [
    "beruf = berufsdaten.find('td')"
   ]
  },
  {
   "cell_type": "code",
   "execution_count": 113,
   "metadata": {},
   "outputs": [
    {
     "data": {
      "text/plain": [
       "'Ärztin/Arzt'"
      ]
     },
     "execution_count": 113,
     "metadata": {},
     "output_type": "execute_result"
    }
   ],
   "source": [
    "soup.find('tbody').find('td').text"
   ]
  },
  {
   "cell_type": "code",
   "execution_count": 117,
   "metadata": {},
   "outputs": [
    {
     "data": {
      "text/plain": [
       "'1969'"
      ]
     },
     "execution_count": 117,
     "metadata": {},
     "output_type": "execute_result"
    }
   ],
   "source": [
    "soup.find('tbody').find('td').find_next('td').text"
   ]
  },
  {
   "cell_type": "code",
   "execution_count": 118,
   "metadata": {},
   "outputs": [
    {
     "data": {
      "text/plain": [
       "'Deutschland'"
      ]
     },
     "execution_count": 118,
     "metadata": {},
     "output_type": "execute_result"
    }
   ],
   "source": [
    "soup.find('tbody').find('td').find_next('td').find_next('td').text"
   ]
  },
  {
   "cell_type": "code",
   "execution_count": 36,
   "metadata": {},
   "outputs": [],
   "source": [
    "datum_string = soup.find('tbody').find('td').find_next('td').find_next('td').find_next('td').text"
   ]
  },
  {
   "cell_type": "markdown",
   "metadata": {},
   "source": [
    "Das Datum der Anerkennung. Mit RegEx kriegen wir das hoffentlich sauber raus."
   ]
  },
  {
   "cell_type": "code",
   "execution_count": 47,
   "metadata": {},
   "outputs": [
    {
     "data": {
      "text/plain": [
       "'Anerkennung\\xa0\\n                    (13.08.2002)\\n                  '"
      ]
     },
     "execution_count": 47,
     "metadata": {},
     "output_type": "execute_result"
    }
   ],
   "source": [
    "datum_string"
   ]
  },
  {
   "cell_type": "code",
   "execution_count": 57,
   "metadata": {},
   "outputs": [
    {
     "data": {
      "text/plain": [
       "'13.08.2002'"
      ]
     },
     "execution_count": 57,
     "metadata": {},
     "output_type": "execute_result"
    }
   ],
   "source": [
    "import datetime\n",
    "date_time_str = re.findall(r'\\d+.\\d+.\\d+', datum_string)[0]\n",
    "date_time_obj = datetime.datetime.strptime(date_time_str, '%d.%m.%Y')\n",
    "date_time_obj.strftime(\"%d.%m.%Y\")"
   ]
  },
  {
   "cell_type": "markdown",
   "metadata": {},
   "source": [
    "Ok, auch hier half Plotti mit. Regex und Datetime generieren einen Wert im richtigen Format. "
   ]
  },
  {
   "cell_type": "markdown",
   "metadata": {},
   "source": [
    "Der Rest kommt sauber rein."
   ]
  },
  {
   "cell_type": "code",
   "execution_count": 132,
   "metadata": {},
   "outputs": [
    {
     "data": {
      "text/plain": [
       "'Psychiatrie und Psychotherapie'"
      ]
     },
     "execution_count": 132,
     "metadata": {},
     "output_type": "execute_result"
    }
   ],
   "source": [
    "soup.find('tbody').find('tr').find_next('tr').find_next('tr').find('td').text"
   ]
  },
  {
   "cell_type": "code",
   "execution_count": 133,
   "metadata": {},
   "outputs": [
    {
     "data": {
      "text/plain": [
       "'2002'"
      ]
     },
     "execution_count": 133,
     "metadata": {},
     "output_type": "execute_result"
    }
   ],
   "source": [
    "soup.find('tbody').find('tr').find_next('tr').find_next('tr').find('td').find_next('td').text"
   ]
  },
  {
   "cell_type": "code",
   "execution_count": 136,
   "metadata": {
    "scrolled": true
   },
   "outputs": [
    {
     "data": {
      "text/plain": [
       "'Schweiz'"
      ]
     },
     "execution_count": 136,
     "metadata": {},
     "output_type": "execute_result"
    }
   ],
   "source": [
    "soup.find('tbody').find('tr').find_next('tr').find_next('tr').find('td').find_next('td').find_next('td').text"
   ]
  },
  {
   "cell_type": "markdown",
   "metadata": {},
   "source": [
    "ginge das auch so?"
   ]
  },
  {
   "cell_type": "code",
   "execution_count": 86,
   "metadata": {},
   "outputs": [
    {
     "data": {
      "text/plain": [
       "<td>Psychiatrie und Psychotherapie</td>"
      ]
     },
     "execution_count": 86,
     "metadata": {},
     "output_type": "execute_result"
    }
   ],
   "source": [
    "soup.find('tbody').find_all('tr')[-3].find('td')"
   ]
  },
  {
   "cell_type": "markdown",
   "metadata": {},
   "source": [
    "Die Nationalitätsfrage ist noch ungelöst:\n",
    "    "
   ]
  },
  {
   "cell_type": "code",
   "execution_count": 43,
   "metadata": {},
   "outputs": [
    {
     "data": {
      "text/plain": [
       "'Nationalität: Deutschland (DE)Sprachkenntnisse: DeutschGLN: 7601000677815\\xa0UID: CHE103519026\\xa0'"
      ]
     },
     "execution_count": 43,
     "metadata": {},
     "output_type": "execute_result"
    }
   ],
   "source": [
    "nationalität = soup.find('p').text#.find('Nationalität:')\n",
    "nationalität\n"
   ]
  },
  {
   "cell_type": "markdown",
   "metadata": {},
   "source": [
    "Mit Regex integriert:"
   ]
  },
  {
   "cell_type": "code",
   "execution_count": 44,
   "metadata": {},
   "outputs": [],
   "source": [
    "nationalität = soup.find('p', text=re.compile(\"Nationalität:(.*)Sprachkenntnisse\"))\n",
    "nationalität\n"
   ]
  },
  {
   "cell_type": "markdown",
   "metadata": {},
   "source": [
    "Kein Resultat. Hm. "
   ]
  },
  {
   "cell_type": "code",
   "execution_count": 47,
   "metadata": {},
   "outputs": [
    {
     "ename": "TypeError",
     "evalue": "'str' object is not callable",
     "output_type": "error",
     "traceback": [
      "\u001b[0;31m---------------------------------------------------------------------------\u001b[0m",
      "\u001b[0;31mTypeError\u001b[0m                                 Traceback (most recent call last)",
      "\u001b[0;32m<ipython-input-47-626f30381ce5>\u001b[0m in \u001b[0;36m<module>\u001b[0;34m\u001b[0m\n\u001b[0;32m----> 1\u001b[0;31m \u001b[0mnationalität\u001b[0m \u001b[0;34m=\u001b[0m \u001b[0msoup\u001b[0m\u001b[0;34m.\u001b[0m\u001b[0mfind\u001b[0m\u001b[0;34m(\u001b[0m\u001b[0;34m'p'\u001b[0m\u001b[0;34m)\u001b[0m\u001b[0;34m.\u001b[0m\u001b[0mtext\u001b[0m\u001b[0;34m(\u001b[0m\u001b[0mre\u001b[0m\u001b[0;34m.\u001b[0m\u001b[0mcompile\u001b[0m\u001b[0;34m(\u001b[0m\u001b[0;34m\"Nationalität:(.*)Sprachkenntnisse\"\u001b[0m\u001b[0;34m)\u001b[0m\u001b[0;34m)\u001b[0m\u001b[0;34m\u001b[0m\u001b[0;34m\u001b[0m\u001b[0m\n\u001b[0m\u001b[1;32m      2\u001b[0m \u001b[0mnationalität\u001b[0m\u001b[0;34m\u001b[0m\u001b[0;34m\u001b[0m\u001b[0m\n",
      "\u001b[0;31mTypeError\u001b[0m: 'str' object is not callable"
     ]
    }
   ],
   "source": [
    "nationalität = soup.find('p').text(re.compile(\"Nationalität:(.*)Sprachkenntnisse\"))\n",
    "nationalität"
   ]
  },
  {
   "cell_type": "markdown",
   "metadata": {},
   "source": [
    "Oder ganz ohne Soup. Direkt mit Regex?"
   ]
  },
  {
   "cell_type": "code",
   "execution_count": 50,
   "metadata": {
    "scrolled": false
   },
   "outputs": [
    {
     "ename": "TypeError",
     "evalue": "findall() missing 1 required positional argument: 'string'",
     "output_type": "error",
     "traceback": [
      "\u001b[0;31m---------------------------------------------------------------------------\u001b[0m",
      "\u001b[0;31mTypeError\u001b[0m                                 Traceback (most recent call last)",
      "\u001b[0;32m<ipython-input-50-c58f21e32dfe>\u001b[0m in \u001b[0;36m<module>\u001b[0;34m\u001b[0m\n\u001b[0;32m----> 1\u001b[0;31m \u001b[0mnationalität\u001b[0m \u001b[0;34m=\u001b[0m \u001b[0mre\u001b[0m\u001b[0;34m.\u001b[0m\u001b[0mfindall\u001b[0m\u001b[0;34m(\u001b[0m\u001b[0;34m\"Nationalität:(.*)\"\u001b[0m\u001b[0;34m)\u001b[0m\u001b[0;34m\u001b[0m\u001b[0;34m\u001b[0m\u001b[0m\n\u001b[0m\u001b[1;32m      2\u001b[0m \u001b[0mnationalität\u001b[0m\u001b[0;34m\u001b[0m\u001b[0;34m\u001b[0m\u001b[0m\n\u001b[1;32m      3\u001b[0m \u001b[0;34m\u001b[0m\u001b[0m\n",
      "\u001b[0;31mTypeError\u001b[0m: findall() missing 1 required positional argument: 'string'"
     ]
    }
   ],
   "source": [
    "nationalität = re.findall(\"Nationalität:(.*)\")\n",
    "nationalität\n"
   ]
  },
  {
   "cell_type": "markdown",
   "metadata": {},
   "source": [
    "Funktioniert nicht richtig."
   ]
  },
  {
   "cell_type": "code",
   "execution_count": 59,
   "metadata": {},
   "outputs": [
    {
     "data": {
      "text/plain": [
       "[]"
      ]
     },
     "execution_count": 59,
     "metadata": {},
     "output_type": "execute_result"
    }
   ],
   "source": [
    "nationalität = soup.find_all('p', text = re.compile(\"Nationalität:(.*)\"))\n",
    "nationalität"
   ]
  },
  {
   "cell_type": "code",
   "execution_count": 63,
   "metadata": {
    "scrolled": true
   },
   "outputs": [
    {
     "ename": "SyntaxError",
     "evalue": "unexpected EOF while parsing (<ipython-input-63-b9520cb4a416>, line 4)",
     "output_type": "error",
     "traceback": [
      "\u001b[0;36m  File \u001b[0;32m\"<ipython-input-63-b9520cb4a416>\"\u001b[0;36m, line \u001b[0;32m4\u001b[0m\n\u001b[0;31m    \u001b[0m\n\u001b[0m    ^\u001b[0m\n\u001b[0;31mSyntaxError\u001b[0m\u001b[0;31m:\u001b[0m unexpected EOF while parsing\n"
     ]
    }
   ],
   "source": [
    "nationalität = soup.find_all('p', text = re.compile(\"Nationalität:\\\\W+(\\\\w+)\")\n"
   ]
  },
  {
   "cell_type": "markdown",
   "metadata": {},
   "source": [
    "Jetzt einmal testen mit Regex. "
   ]
  },
  {
   "cell_type": "code",
   "execution_count": 77,
   "metadata": {},
   "outputs": [
    {
     "data": {
      "text/plain": [
       "<re.Match object; span=(0, 25), match='Nationalität: Deutschland'>"
      ]
     },
     "execution_count": 77,
     "metadata": {},
     "output_type": "execute_result"
    }
   ],
   "source": [
    "import re\n",
    "\n",
    "text = 'Nationalität: Deutschland (DE)Sprachkenntnisse: DeutschGLN: 7601000677815\\xa0UID: CHE103519026\\xa0'\n",
    "nationalität = re.search('Nationalität: \\w+', text)\n",
    "\n",
    "nationalität\n"
   ]
  },
  {
   "cell_type": "markdown",
   "metadata": {},
   "source": [
    "Über eine Stunde vergebens rumgesucht und noch immer keine passende Regex-Formel gefunden. "
   ]
  },
  {
   "cell_type": "markdown",
   "metadata": {},
   "source": [
    "Jetzt das ganze in einem Codebrocken, noch für ein File (Zeile 11). Das wird die eigentliche Parsing-Funktion. "
   ]
  },
  {
   "cell_type": "code",
   "execution_count": 17,
   "metadata": {},
   "outputs": [],
   "source": [
    "from bs4 import BeautifulSoup\n",
    "import pandas as pd\n",
    "import time\n",
    "import os\n",
    "import re\n",
    "import datetime\n",
    "from tqdm import tqdm\n",
    "\n",
    "path = 'MedReg_Scraped_Data_20K/'\n",
    "file_list = os.listdir(path)\n",
    "\n",
    "file = open(path + file_list[4805], 'r')\n",
    "text = file.read()\n",
    "soup = BeautifulSoup(text, 'html.parser')\n",
    "\n",
    "def get_gender(soup):\n",
    "    img_source = soup.find('h3').find(\"img\")[\"src\"]\n",
    "    if \"venus\" in img_source:\n",
    "        return \"w\"\n",
    "    else:\n",
    "        return \"m\"\n",
    "\n",
    "\n",
    "name = soup.find('h3').text.replace('\\xa0','')\n",
    "#nationalität = soup.find('p')\n",
    "geschlecht = get_gender(soup)\n",
    "adresse = soup.find_all(\"ol\")[-1].find_all(\"li\", {\"class\": \"address-item\"})[0][\"title\"]\n",
    "beruf = soup.find('tbody').find('td').text\n",
    "jahr_diplom = soup.find('tbody').find('td').find_next('td').text\n",
    "land_diplom = soup.find('tbody').find('td').find_next('td').find_next('td').text\n",
    "datum_anerkennung = soup.find('tbody').find('td').find_next('td').find_next('td').find_next('td').text\n",
    "weiterbildungstitel = soup.find('tbody').find('tr').find_next('tr').find_next('tr').find('td').text\n",
    "jahr_wbtitel = soup.find('tbody').find('tr').find_next('tr').find_next('tr').find('td').find_next('td').text\n",
    "land_wbtitel = soup.find('tbody').find('tr').find_next('tr').find_next('tr').find('td').find_next('td').find_next('td').text\n",
    "\n",
    "\n",
    "\n",
    "#Umwandlung des Anerkennungsdatum später dann mit der Formel:\n",
    "#date_time_str = re.findall(r'\\d+.\\d+.\\d+', datum_anerkennung)[0]\n",
    "#date_time_obj = datetime.datetime.strptime(date_time_str, '%d.%m.%Y')\n",
    "#date_time_obj.strftime(\"%d.%m.%Y\")\n",
    "\n"
   ]
  },
  {
   "cell_type": "code",
   "execution_count": 11,
   "metadata": {},
   "outputs": [
    {
     "data": {
      "text/plain": [
       "'Ärztin/Arzt'"
      ]
     },
     "execution_count": 11,
     "metadata": {},
     "output_type": "execute_result"
    }
   ],
   "source": [
    "beruf"
   ]
  },
  {
   "cell_type": "code",
   "execution_count": 12,
   "metadata": {},
   "outputs": [
    {
     "data": {
      "text/plain": [
       "'Dufourstr. 169,8008 Zürich,ZH'"
      ]
     },
     "execution_count": 12,
     "metadata": {},
     "output_type": "execute_result"
    }
   ],
   "source": [
    "adresse"
   ]
  },
  {
   "cell_type": "code",
   "execution_count": 13,
   "metadata": {},
   "outputs": [
    {
     "data": {
      "text/plain": [
       "'Psychiatrie und Psychotherapie'"
      ]
     },
     "execution_count": 13,
     "metadata": {},
     "output_type": "execute_result"
    }
   ],
   "source": [
    "weiterbildungstitel"
   ]
  },
  {
   "cell_type": "code",
   "execution_count": 19,
   "metadata": {},
   "outputs": [
    {
     "data": {
      "text/plain": [
       "datetime.datetime(2002, 8, 13, 0, 0)"
      ]
     },
     "execution_count": 19,
     "metadata": {},
     "output_type": "execute_result"
    }
   ],
   "source": [
    "date_time_obj"
   ]
  },
  {
   "cell_type": "markdown",
   "metadata": {},
   "source": [
    "Die Daten scheinen jetzt einigermassen sauber ausgelesen zu werden.\n",
    "Als nächstes müssen jetzt diese Daten reihenweise ausgelesen werden und in einem Dataframe abgelegt werden. Dazu erstelle ich ein das Notebook \"MedReg Parsing seriell\"."
   ]
  },
  {
   "cell_type": "code",
   "execution_count": null,
   "metadata": {},
   "outputs": [],
   "source": []
  }
 ],
 "metadata": {
  "kernelspec": {
   "display_name": "Python 3",
   "language": "python",
   "name": "python3"
  },
  "language_info": {
   "codemirror_mode": {
    "name": "ipython",
    "version": 3
   },
   "file_extension": ".py",
   "mimetype": "text/x-python",
   "name": "python",
   "nbconvert_exporter": "python",
   "pygments_lexer": "ipython3",
   "version": "3.7.4"
  }
 },
 "nbformat": 4,
 "nbformat_minor": 2
}
