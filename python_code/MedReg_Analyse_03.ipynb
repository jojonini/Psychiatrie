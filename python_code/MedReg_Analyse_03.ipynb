{
 "cells": [
  {
   "cell_type": "markdown",
   "metadata": {},
   "source": [
    "## Analyse der MedReg Daten über Psychiater\n",
    "\n",
    "In diesem Notebook sollen die bereinigten und überprüften Daten aus den beiden Notenooks [MedReg_Analyse_01_Bereinigen](/Users/master/Desktop/CAS_DJ/MedReg/MedReg Scraping 2020/MedReg_Analyse_01_Bereinigen.ipynb) und [MedReg_Analyse_02_Datencheck](/Users/master/Desktop/CAS_DJ/MedReg/MedReg Scraping 2020/MedReg_Analyse_02_Datencheck.ipynb) einer weiteren Analyse unterzogen werden. \n",
    "\n",
    "Mit den bereinigten Daten sollen hier folgende Auswertungen wiederholt oder neu gemacht werden:\n",
    "\n",
    "1. Stand Facharztabschlüsse Psychiatrie und Physotheraphie nach Nationalität per Ende 2019 (auf Basis von Land Medizinsudium und der direkten Anerkennungen ausländischer Facharzttiteln)\n",
    "2. Aussagen über die Nationalität bzw. Studienort der anerkannten Weiterbildungstitel\n",
    "3. Entwicklung Anteil der Anerkennung (sprich: Neuzulassung) per Jahresende, über die Jahre, bis Ende 2019\n",
    "\n",
    "\n",
    "Für diese Analysen werde ich die Daten **aller** registrierten Arzttitel verwenden und nicht bloss jene mit erteilter Bewilligung, da diese nur für eine bestimmte Art von (selbstständigen) Tätigkeiten nötig ist. So schrieb das BAG auf eine Anfrage im letzten Herbst: *«Die Statistiken des BAG zu den aktiven Bewilligungen nach MedBG 2018 resultieren aus den von den Kantonen erteilten Berufsausübungsbewilligungen. Eine solche Bewilligung ist aufgrund des Medizinalberufegesetzes (MedBG) für die privatwirtschaftliche Berufsausübung in eigener fachlicher Verantwortung notwendig. Es sind somit nicht alle Tätigkeiten bewilligungspflichtig. Entsprechend kann das BAG keine Aussagen dazu machen, wie viele Ärzt/innen in der Schweiz ihren Beruf tatsächlich ausüben.»*\n",
    "\n",
    "\n",
    "In weiteren Analysen sollen später auch Fragen untersucht werden, wie:\n",
    "\n",
    "Weitere Analysen:\n",
    "- regionale Aussagen über die Tätigkeitsorte (Adresse der Bewilligung) wie zum Beispiel:\n",
    "- Vergleich zur Kantonsbevölkerung? (aussagekräftig?)\n",
    "- Städtische Gebiete, ländliche Gebiete? (aufwändig)\n",
    "- Grossstädte vs. landliche Zentren?"
   ]
  },
  {
   "cell_type": "code",
   "execution_count": null,
   "metadata": {},
   "outputs": [],
   "source": [
    "import pandas as pd\n",
    "import re\n",
    "import numpy as np\n",
    "import datetime"
   ]
  },
  {
   "cell_type": "code",
   "execution_count": null,
   "metadata": {},
   "outputs": [],
   "source": [
    "df = pd.read_csv(r'medreg_2020_psych_b2019_20200128.csv')"
   ]
  },
  {
   "cell_type": "code",
   "execution_count": null,
   "metadata": {},
   "outputs": [],
   "source": [
    "len(df)"
   ]
  },
  {
   "cell_type": "code",
   "execution_count": null,
   "metadata": {},
   "outputs": [],
   "source": [
    "df_erteilt = df[df['BAB Status'] == 'Erteilt']"
   ]
  },
  {
   "cell_type": "code",
   "execution_count": null,
   "metadata": {},
   "outputs": [],
   "source": [
    "len(df_erteilt)"
   ]
  },
  {
   "cell_type": "markdown",
   "metadata": {},
   "source": [
    "Wir haben also insgesamt 5413 registrierte Fachärzte per Ende 2019 im MedReg. Diese Zahl erscheint plausibel, waren es doch am 7.1.2020 5420 Einträge [Screenshot](/Users/master/Desktop/CAS_DJ/MedReg/Screenshots MedReg/Screenshot MedReg Stand 20200107 at 002505.jpg)\n"
   ]
  },
  {
   "cell_type": "markdown",
   "metadata": {},
   "source": [
    "## 1. Analyse: Herkunft der Psychiaterinnen und Psychiater nach dem Land ihres Medizinstudiums\n"
   ]
  },
  {
   "cell_type": "code",
   "execution_count": 6,
   "metadata": {},
   "outputs": [
    {
     "data": {
      "text/plain": [
       "Unnamed: 0                 int64\n",
       "Unnamed: 0.1               int64\n",
       "Doc_ID                     int64\n",
       "Name                      object\n",
       "Geschlecht                object\n",
       "Adresse                   object\n",
       "Ort                       object\n",
       "Nationalität              object\n",
       "Sprache                   object\n",
       "Arzt_Jahr                  int64\n",
       "Arzt_Land                 object\n",
       "Arzt_Anerkennung_Jahr    float64\n",
       "PP_Jahr                    int64\n",
       "PP_Land                   object\n",
       "PP_Anerkennung             int64\n",
       "BAB                       object\n",
       "BAB Status                object\n",
       "Datei                     object\n",
       "PP_CH                      int64\n",
       "dtype: object"
      ]
     },
     "execution_count": 6,
     "metadata": {},
     "output_type": "execute_result"
    }
   ],
   "source": [
    "df.dtypes"
   ]
  },
  {
   "cell_type": "code",
   "execution_count": 7,
   "metadata": {},
   "outputs": [],
   "source": [
    "df_arzt_land = df['Arzt_Land'].value_counts()"
   ]
  },
  {
   "cell_type": "code",
   "execution_count": 8,
   "metadata": {},
   "outputs": [],
   "source": [
    "df_arzt_land = df_arzt_land.reset_index()"
   ]
  },
  {
   "cell_type": "code",
   "execution_count": 11,
   "metadata": {},
   "outputs": [
    {
     "data": {
      "text/html": [
       "<div>\n",
       "<style scoped>\n",
       "    .dataframe tbody tr th:only-of-type {\n",
       "        vertical-align: middle;\n",
       "    }\n",
       "\n",
       "    .dataframe tbody tr th {\n",
       "        vertical-align: top;\n",
       "    }\n",
       "\n",
       "    .dataframe thead th {\n",
       "        text-align: right;\n",
       "    }\n",
       "</style>\n",
       "<table border=\"1\" class=\"dataframe\">\n",
       "  <thead>\n",
       "    <tr style=\"text-align: right;\">\n",
       "      <th></th>\n",
       "      <th>index</th>\n",
       "      <th>Arzt_Land</th>\n",
       "    </tr>\n",
       "  </thead>\n",
       "  <tbody>\n",
       "    <tr>\n",
       "      <th>0</th>\n",
       "      <td>Schweiz</td>\n",
       "      <td>2833</td>\n",
       "    </tr>\n",
       "    <tr>\n",
       "      <th>1</th>\n",
       "      <td>Deutschland</td>\n",
       "      <td>1354</td>\n",
       "    </tr>\n",
       "    <tr>\n",
       "      <th>2</th>\n",
       "      <td>Frankreich</td>\n",
       "      <td>316</td>\n",
       "    </tr>\n",
       "    <tr>\n",
       "      <th>3</th>\n",
       "      <td>Italien</td>\n",
       "      <td>213</td>\n",
       "    </tr>\n",
       "    <tr>\n",
       "      <th>4</th>\n",
       "      <td>Österreich</td>\n",
       "      <td>179</td>\n",
       "    </tr>\n",
       "    <tr>\n",
       "      <th>5</th>\n",
       "      <td>Spanien</td>\n",
       "      <td>73</td>\n",
       "    </tr>\n",
       "    <tr>\n",
       "      <th>6</th>\n",
       "      <td>Rumänien</td>\n",
       "      <td>61</td>\n",
       "    </tr>\n",
       "    <tr>\n",
       "      <th>7</th>\n",
       "      <td>Griechenland</td>\n",
       "      <td>57</td>\n",
       "    </tr>\n",
       "    <tr>\n",
       "      <th>8</th>\n",
       "      <td>vorm. Jugoslawien</td>\n",
       "      <td>42</td>\n",
       "    </tr>\n",
       "    <tr>\n",
       "      <th>9</th>\n",
       "      <td>Belgien</td>\n",
       "      <td>41</td>\n",
       "    </tr>\n",
       "  </tbody>\n",
       "</table>\n",
       "</div>"
      ],
      "text/plain": [
       "               index  Arzt_Land\n",
       "0            Schweiz       2833\n",
       "1        Deutschland       1354\n",
       "2         Frankreich        316\n",
       "3            Italien        213\n",
       "4         Österreich        179\n",
       "5            Spanien         73\n",
       "6           Rumänien         61\n",
       "7       Griechenland         57\n",
       "8  vorm. Jugoslawien         42\n",
       "9            Belgien         41"
      ]
     },
     "execution_count": 11,
     "metadata": {},
     "output_type": "execute_result"
    }
   ],
   "source": [
    "df_arzt_land.head(10)"
   ]
  },
  {
   "cell_type": "code",
   "execution_count": 24,
   "metadata": {},
   "outputs": [],
   "source": [
    "df_arzt_land = df_arzt_land.rename(columns = {'index':'Land Medizinstudium', 'Arzt_Land':'Anzahl'})"
   ]
  },
  {
   "cell_type": "code",
   "execution_count": 25,
   "metadata": {},
   "outputs": [],
   "source": [
    "df_arzt_land['Anteil'] = df_arzt_land['Anzahl'] / 5413 * 100"
   ]
  },
  {
   "cell_type": "code",
   "execution_count": 26,
   "metadata": {},
   "outputs": [
    {
     "ename": "FileNotFoundError",
     "evalue": "[Errno 2] No such file or directory: 'MedReg_Analyse_output/Psych_Land_Medizinstudium_bis2019.csv'",
     "output_type": "error",
     "traceback": [
      "\u001b[0;31m---------------------------------------------------------------------------\u001b[0m",
      "\u001b[0;31mFileNotFoundError\u001b[0m                         Traceback (most recent call last)",
      "\u001b[0;32m<ipython-input-26-3e03435de1d3>\u001b[0m in \u001b[0;36m<module>\u001b[0;34m\u001b[0m\n\u001b[0;32m----> 1\u001b[0;31m \u001b[0mdf_arzt_land\u001b[0m\u001b[0;34m.\u001b[0m\u001b[0mto_csv\u001b[0m\u001b[0;34m(\u001b[0m\u001b[0;34mr'MedReg_Analyse_output/Psych_Land_Medizinstudium_bis2019.csv'\u001b[0m\u001b[0;34m,\u001b[0m\u001b[0mindex\u001b[0m \u001b[0;34m=\u001b[0m \u001b[0;34m'Land Medizinstudium'\u001b[0m\u001b[0;34m,\u001b[0m \u001b[0mheader\u001b[0m\u001b[0;34m=\u001b[0m\u001b[0;32mTrue\u001b[0m\u001b[0;34m)\u001b[0m\u001b[0;34m\u001b[0m\u001b[0;34m\u001b[0m\u001b[0m\n\u001b[0m",
      "\u001b[0;32m/usr/local/lib/python3.7/site-packages/pandas/core/generic.py\u001b[0m in \u001b[0;36mto_csv\u001b[0;34m(self, path_or_buf, sep, na_rep, float_format, columns, header, index, index_label, mode, encoding, compression, quoting, quotechar, line_terminator, chunksize, date_format, doublequote, escapechar, decimal)\u001b[0m\n\u001b[1;32m   3226\u001b[0m             \u001b[0mdecimal\u001b[0m\u001b[0;34m=\u001b[0m\u001b[0mdecimal\u001b[0m\u001b[0;34m,\u001b[0m\u001b[0;34m\u001b[0m\u001b[0;34m\u001b[0m\u001b[0m\n\u001b[1;32m   3227\u001b[0m         )\n\u001b[0;32m-> 3228\u001b[0;31m         \u001b[0mformatter\u001b[0m\u001b[0;34m.\u001b[0m\u001b[0msave\u001b[0m\u001b[0;34m(\u001b[0m\u001b[0;34m)\u001b[0m\u001b[0;34m\u001b[0m\u001b[0;34m\u001b[0m\u001b[0m\n\u001b[0m\u001b[1;32m   3229\u001b[0m \u001b[0;34m\u001b[0m\u001b[0m\n\u001b[1;32m   3230\u001b[0m         \u001b[0;32mif\u001b[0m \u001b[0mpath_or_buf\u001b[0m \u001b[0;32mis\u001b[0m \u001b[0;32mNone\u001b[0m\u001b[0;34m:\u001b[0m\u001b[0;34m\u001b[0m\u001b[0;34m\u001b[0m\u001b[0m\n",
      "\u001b[0;32m/usr/local/lib/python3.7/site-packages/pandas/io/formats/csvs.py\u001b[0m in \u001b[0;36msave\u001b[0;34m(self)\u001b[0m\n\u001b[1;32m    181\u001b[0m                 \u001b[0mself\u001b[0m\u001b[0;34m.\u001b[0m\u001b[0mmode\u001b[0m\u001b[0;34m,\u001b[0m\u001b[0;34m\u001b[0m\u001b[0;34m\u001b[0m\u001b[0m\n\u001b[1;32m    182\u001b[0m                 \u001b[0mencoding\u001b[0m\u001b[0;34m=\u001b[0m\u001b[0mself\u001b[0m\u001b[0;34m.\u001b[0m\u001b[0mencoding\u001b[0m\u001b[0;34m,\u001b[0m\u001b[0;34m\u001b[0m\u001b[0;34m\u001b[0m\u001b[0m\n\u001b[0;32m--> 183\u001b[0;31m                 \u001b[0mcompression\u001b[0m\u001b[0;34m=\u001b[0m\u001b[0mself\u001b[0m\u001b[0;34m.\u001b[0m\u001b[0mcompression\u001b[0m\u001b[0;34m,\u001b[0m\u001b[0;34m\u001b[0m\u001b[0;34m\u001b[0m\u001b[0m\n\u001b[0m\u001b[1;32m    184\u001b[0m             )\n\u001b[1;32m    185\u001b[0m             \u001b[0mclose\u001b[0m \u001b[0;34m=\u001b[0m \u001b[0;32mTrue\u001b[0m\u001b[0;34m\u001b[0m\u001b[0;34m\u001b[0m\u001b[0m\n",
      "\u001b[0;32m/usr/local/lib/python3.7/site-packages/pandas/io/common.py\u001b[0m in \u001b[0;36m_get_handle\u001b[0;34m(path_or_buf, mode, encoding, compression, memory_map, is_text)\u001b[0m\n\u001b[1;32m    397\u001b[0m         \u001b[0;32mif\u001b[0m \u001b[0mencoding\u001b[0m\u001b[0;34m:\u001b[0m\u001b[0;34m\u001b[0m\u001b[0;34m\u001b[0m\u001b[0m\n\u001b[1;32m    398\u001b[0m             \u001b[0;31m# Encoding\u001b[0m\u001b[0;34m\u001b[0m\u001b[0;34m\u001b[0m\u001b[0;34m\u001b[0m\u001b[0m\n\u001b[0;32m--> 399\u001b[0;31m             \u001b[0mf\u001b[0m \u001b[0;34m=\u001b[0m \u001b[0mopen\u001b[0m\u001b[0;34m(\u001b[0m\u001b[0mpath_or_buf\u001b[0m\u001b[0;34m,\u001b[0m \u001b[0mmode\u001b[0m\u001b[0;34m,\u001b[0m \u001b[0mencoding\u001b[0m\u001b[0;34m=\u001b[0m\u001b[0mencoding\u001b[0m\u001b[0;34m,\u001b[0m \u001b[0mnewline\u001b[0m\u001b[0;34m=\u001b[0m\u001b[0;34m\"\"\u001b[0m\u001b[0;34m)\u001b[0m\u001b[0;34m\u001b[0m\u001b[0;34m\u001b[0m\u001b[0m\n\u001b[0m\u001b[1;32m    400\u001b[0m         \u001b[0;32melif\u001b[0m \u001b[0mis_text\u001b[0m\u001b[0;34m:\u001b[0m\u001b[0;34m\u001b[0m\u001b[0;34m\u001b[0m\u001b[0m\n\u001b[1;32m    401\u001b[0m             \u001b[0;31m# No explicit encoding\u001b[0m\u001b[0;34m\u001b[0m\u001b[0;34m\u001b[0m\u001b[0;34m\u001b[0m\u001b[0m\n",
      "\u001b[0;31mFileNotFoundError\u001b[0m: [Errno 2] No such file or directory: 'MedReg_Analyse_output/Psych_Land_Medizinstudium_bis2019.csv'"
     ]
    }
   ],
   "source": [
    "df_arzt_land.to_csv(r'MedReg_Analyse_output/Psych_Land_Medizinstudium_bis2019.csv',index = 'Land Medizinstudium', header=True)"
   ]
  },
  {
   "cell_type": "code",
   "execution_count": null,
   "metadata": {},
   "outputs": [],
   "source": [
    "df_arzt_land.head(1"
   ]
  },
  {
   "cell_type": "code",
   "execution_count": null,
   "metadata": {},
   "outputs": [],
   "source": []
  },
  {
   "cell_type": "code",
   "execution_count": null,
   "metadata": {},
   "outputs": [],
   "source": []
  },
  {
   "cell_type": "code",
   "execution_count": null,
   "metadata": {},
   "outputs": [],
   "source": []
  },
  {
   "cell_type": "code",
   "execution_count": null,
   "metadata": {},
   "outputs": [],
   "source": []
  },
  {
   "cell_type": "code",
   "execution_count": null,
   "metadata": {},
   "outputs": [],
   "source": []
  },
  {
   "cell_type": "code",
   "execution_count": null,
   "metadata": {},
   "outputs": [],
   "source": []
  },
  {
   "cell_type": "code",
   "execution_count": null,
   "metadata": {},
   "outputs": [],
   "source": []
  },
  {
   "cell_type": "code",
   "execution_count": null,
   "metadata": {},
   "outputs": [],
   "source": []
  },
  {
   "cell_type": "markdown",
   "metadata": {},
   "source": [
    "### Resultat 1: 52.2% aller in der Schweiz registrierten Psychiaterinnen und Psychiater haben ihr Grundstudium in der Schweiz absolviert. 25% haben einen deutschen Abschluss, 5.8% einen französischen. (Stand: Ende 2019).\n",
    "Wir möchten diese Zahl noch in den Kontext mit anderen Fachrichtungen stellen. Dazu müssen wir aber den gesamten Datensatz aus dem Scraping nochmals aufbereiten. Dies soll zu einem späteren Zeitpunkt nachgeholt werden, falls es die Zeit erlaubt. Als Vergleich schauen wir uns noch kurz die Nationalität der registrierten Ärzte an. Allerdings ist dieser Wert meiner Meinung nach weniger aussagekräftig, da er durch Einbürgerungen verwässert wird. "
   ]
  },
  {
   "cell_type": "code",
   "execution_count": 18,
   "metadata": {},
   "outputs": [],
   "source": [
    "df_nation = df['Nationalität'].value_counts()"
   ]
  },
  {
   "cell_type": "code",
   "execution_count": 19,
   "metadata": {},
   "outputs": [],
   "source": [
    "df_nation = df_nation.reset_index()"
   ]
  },
  {
   "cell_type": "code",
   "execution_count": 20,
   "metadata": {},
   "outputs": [],
   "source": [
    "df_nation = df_nation.rename(columns = {'index':'Nationlität', 'Nationalität':'Anzahl'})"
   ]
  },
  {
   "cell_type": "code",
   "execution_count": 21,
   "metadata": {},
   "outputs": [],
   "source": [
    "df_nation['Anteil'] = df_nation['Anzahl'] / 5413 * 100"
   ]
  },
  {
   "cell_type": "code",
   "execution_count": 23,
   "metadata": {},
   "outputs": [
    {
     "data": {
      "text/html": [
       "<div>\n",
       "<style scoped>\n",
       "    .dataframe tbody tr th:only-of-type {\n",
       "        vertical-align: middle;\n",
       "    }\n",
       "\n",
       "    .dataframe tbody tr th {\n",
       "        vertical-align: top;\n",
       "    }\n",
       "\n",
       "    .dataframe thead th {\n",
       "        text-align: right;\n",
       "    }\n",
       "</style>\n",
       "<table border=\"1\" class=\"dataframe\">\n",
       "  <thead>\n",
       "    <tr style=\"text-align: right;\">\n",
       "      <th></th>\n",
       "      <th>Nationlität</th>\n",
       "      <th>Anzahl</th>\n",
       "      <th>Anteil</th>\n",
       "    </tr>\n",
       "  </thead>\n",
       "  <tbody>\n",
       "    <tr>\n",
       "      <th>0</th>\n",
       "      <td>Schweiz (CH)</td>\n",
       "      <td>2938</td>\n",
       "      <td>54.276741</td>\n",
       "    </tr>\n",
       "    <tr>\n",
       "      <th>1</th>\n",
       "      <td>Deutschland (DE)</td>\n",
       "      <td>1358</td>\n",
       "      <td>25.087752</td>\n",
       "    </tr>\n",
       "    <tr>\n",
       "      <th>2</th>\n",
       "      <td>Frankreich (FR)</td>\n",
       "      <td>355</td>\n",
       "      <td>6.558286</td>\n",
       "    </tr>\n",
       "    <tr>\n",
       "      <th>3</th>\n",
       "      <td>Italien (IT)</td>\n",
       "      <td>188</td>\n",
       "      <td>3.473120</td>\n",
       "    </tr>\n",
       "    <tr>\n",
       "      <th>4</th>\n",
       "      <td>Österreich (AT)</td>\n",
       "      <td>162</td>\n",
       "      <td>2.992795</td>\n",
       "    </tr>\n",
       "    <tr>\n",
       "      <th>5</th>\n",
       "      <td>Griechenland (GR)</td>\n",
       "      <td>71</td>\n",
       "      <td>1.311657</td>\n",
       "    </tr>\n",
       "    <tr>\n",
       "      <th>6</th>\n",
       "      <td>Spanien (ES)</td>\n",
       "      <td>66</td>\n",
       "      <td>1.219287</td>\n",
       "    </tr>\n",
       "    <tr>\n",
       "      <th>7</th>\n",
       "      <td>Rumänien (RO)</td>\n",
       "      <td>44</td>\n",
       "      <td>0.812858</td>\n",
       "    </tr>\n",
       "    <tr>\n",
       "      <th>8</th>\n",
       "      <td>Belgien (BE)</td>\n",
       "      <td>35</td>\n",
       "      <td>0.646592</td>\n",
       "    </tr>\n",
       "    <tr>\n",
       "      <th>9</th>\n",
       "      <td>Bulgarien (BG)</td>\n",
       "      <td>15</td>\n",
       "      <td>0.277111</td>\n",
       "    </tr>\n",
       "  </tbody>\n",
       "</table>\n",
       "</div>"
      ],
      "text/plain": [
       "          Nationlität  Anzahl     Anteil\n",
       "0        Schweiz (CH)    2938  54.276741\n",
       "1    Deutschland (DE)    1358  25.087752\n",
       "2     Frankreich (FR)     355   6.558286\n",
       "3        Italien (IT)     188   3.473120\n",
       "4     Österreich (AT)     162   2.992795\n",
       "5   Griechenland (GR)      71   1.311657\n",
       "6        Spanien (ES)      66   1.219287\n",
       "7       Rumänien (RO)      44   0.812858\n",
       "8        Belgien (BE)      35   0.646592\n",
       "9      Bulgarien (BG)      15   0.277111"
      ]
     },
     "execution_count": 23,
     "metadata": {},
     "output_type": "execute_result"
    }
   ],
   "source": [
    "df_nation.head(10)"
   ]
  },
  {
   "cell_type": "code",
   "execution_count": null,
   "metadata": {},
   "outputs": [],
   "source": [
    "df_nation.to_csv(r'MedReg_Analyse_output/Psych_Nationalitaet_bis2019.csv',index = 'Nationalität', header=True)"
   ]
  },
  {
   "cell_type": "markdown",
   "metadata": {},
   "source": [
    "### Restultat 2: nach Nationalität ergibt sich ein ähnliches Bild. Danach sind 54.3% Schweizer, 25.1% Deutsche und 6.6% Franzosen."
   ]
  },
  {
   "cell_type": "markdown",
   "metadata": {},
   "source": [
    "Zum Vergleich wollen wir noch die Daten aller Ärzte mit erteilter Bewilligung auswerten. Bei diesen ist vermutlich der Anteil der niedergelassenen, selbstständig tätigen Ärzte höher. "
   ]
  },
  {
   "cell_type": "code",
   "execution_count": null,
   "metadata": {},
   "outputs": [],
   "source": [
    "df_erteilt_arzt_land = df_erteilt['Arzt_Land'].value_counts()"
   ]
  },
  {
   "cell_type": "code",
   "execution_count": null,
   "metadata": {},
   "outputs": [],
   "source": [
    "df_erteilt_arzt_land = df_erteilt_arzt_land.reset_index()"
   ]
  },
  {
   "cell_type": "code",
   "execution_count": null,
   "metadata": {},
   "outputs": [],
   "source": [
    "df_erteilt_arzt_land.head(5)"
   ]
  },
  {
   "cell_type": "code",
   "execution_count": null,
   "metadata": {},
   "outputs": [],
   "source": [
    "df_erteilt_arzt_land = df_erteilt_arzt_land.rename(columns = {'index':'Land Medizinstudium', 'Arzt_Land':'Anzahl'})"
   ]
  },
  {
   "cell_type": "code",
   "execution_count": null,
   "metadata": {},
   "outputs": [],
   "source": [
    "df_erteilt_arzt_land['Anteil'] = df_erteilt_arzt_land['Anzahl'] / 4415 * 100"
   ]
  },
  {
   "cell_type": "code",
   "execution_count": null,
   "metadata": {},
   "outputs": [],
   "source": [
    "df_erteilt_arzt_land.to_csv(r'MedReg_Analyse_output/Psych_BAB_Land_Medizinstudium_bis2019.csv',index = 'Land Medizinstudium', header=True)"
   ]
  },
  {
   "cell_type": "code",
   "execution_count": null,
   "metadata": {},
   "outputs": [],
   "source": [
    "df_erteilt_arzt_land.head(5)"
   ]
  },
  {
   "cell_type": "markdown",
   "metadata": {},
   "source": [
    "### Restultat 3: mit erteilter Bewilligung liegt der Schweizer Anteil höher: 57.6% CH-Medizinstudium, 22.4% Deutschland. "
   ]
  },
  {
   "cell_type": "markdown",
   "metadata": {},
   "source": [
    "Jetzt schauen wir genauer hin. Wie war das mit den neuzugelassenen Psychiatern im letzten Jahr?"
   ]
  },
  {
   "cell_type": "code",
   "execution_count": null,
   "metadata": {},
   "outputs": [],
   "source": [
    "df.head(2)"
   ]
  },
  {
   "cell_type": "code",
   "execution_count": null,
   "metadata": {},
   "outputs": [],
   "source": [
    "df2019 = df[df['PP_CH'] == 2019]"
   ]
  },
  {
   "cell_type": "code",
   "execution_count": null,
   "metadata": {},
   "outputs": [],
   "source": [
    "total = len(df2019)"
   ]
  },
  {
   "cell_type": "code",
   "execution_count": null,
   "metadata": {},
   "outputs": [],
   "source": [
    "df2019 = df2019['Arzt_Land'].value_counts().reset_index().rename(columns = {'index':'Land Medizinstudium', 'Arzt_Land':'Anzahl'})"
   ]
  },
  {
   "cell_type": "code",
   "execution_count": null,
   "metadata": {
    "scrolled": true
   },
   "outputs": [],
   "source": [
    "df2019.head(2)"
   ]
  },
  {
   "cell_type": "code",
   "execution_count": null,
   "metadata": {},
   "outputs": [],
   "source": [
    "df2019['Anteil'] = df2019['Anzahl'] / int(total) * 100"
   ]
  },
  {
   "cell_type": "code",
   "execution_count": null,
   "metadata": {},
   "outputs": [],
   "source": [
    "df2019.head(5)"
   ]
  },
  {
   "cell_type": "code",
   "execution_count": null,
   "metadata": {},
   "outputs": [],
   "source": [
    "df2019.to_csv(r'MedReg_Analyse_output/Psych_BAB_Land_Medizinstudium_2019.csv',index = 'Land Medizinstudium', header=True)"
   ]
  },
  {
   "cell_type": "markdown",
   "metadata": {},
   "source": [
    "### Restultat 4: 2019 waren von den 183 neu registrierten Fachärzten Psychiatrie und Psychotherapie nur 35 darunter, die in der Schweiz Medizin studiert hatten. Das sind bloss 20%! 30% hatten ein deutsches Medizinstudium, 15% ein französisches. Ein Drittel verteilt sich auf die weiteren Länder. "
   ]
  },
  {
   "cell_type": "markdown",
   "metadata": {},
   "source": [
    "## 2. Analyse: Entwicklung Anteil der Anerkennung (sprich: Neuzulassung) per Jahresende, über die Jahre\n",
    "Wir möchten uns jetzt anschauen, wie sich dieser Anteil über die letzten Jahre entwickelt hat. \n",
    "\n",
    "Es muss uns dabei bewusst sein, dass wir dabei die Daten eines dynamischen Registers verwenden und es ein Blick zurück vom Stand Ende 2019 ist. Das heisst: je weiter wir zurückblicken, desto mehr sind die Zahlen durch Mutationen verwässert."
   ]
  },
  {
   "cell_type": "markdown",
   "metadata": {},
   "source": [
    "Zuerst ein Überblick über die Anzahl Zulassungen über die letzten Jahre. Wieviele Diplome gingen jeweils an Medizinabsolventen mit Schweizer Arztdiplom?\n"
   ]
  },
  {
   "cell_type": "code",
   "execution_count": null,
   "metadata": {},
   "outputs": [],
   "source": [
    "df[df['Arzt_Land'] == \"Schweiz\"].groupby('PP_CH')['PP_CH'].count()"
   ]
  },
  {
   "cell_type": "code",
   "execution_count": null,
   "metadata": {},
   "outputs": [],
   "source": [
    "%matplotlib inline"
   ]
  },
  {
   "cell_type": "code",
   "execution_count": null,
   "metadata": {},
   "outputs": [],
   "source": [
    "df[df['Arzt_Land'] == \"Schweiz\"].groupby('PP_CH')['PP_CH'].count().plot(figsize=(15,8))"
   ]
  },
  {
   "cell_type": "markdown",
   "metadata": {},
   "source": [
    "Und jetzt nehmen wir noch die Daten aller ohne schweizerisches Medizinstudium hinzu:"
   ]
  },
  {
   "cell_type": "code",
   "execution_count": null,
   "metadata": {},
   "outputs": [],
   "source": [
    "chart1 = df[df['Arzt_Land'] == \"Schweiz\"].groupby('PP_CH')['PP_CH'].count().plot(figsize=(15,8))\n",
    "df[df['Arzt_Land'] != \"Schweiz\"].groupby('PP_CH')['PP_CH'].count().plot(ax=chart1)"
   ]
  },
  {
   "cell_type": "markdown",
   "metadata": {},
   "source": [
    "Nächster Schritt: wir wollen jetzt die Daten aller Schweizer und ausländischen Medizinstudium-Absolventen in ein neues Dataframe überführen, zur Auswertung. "
   ]
  },
  {
   "cell_type": "code",
   "execution_count": null,
   "metadata": {},
   "outputs": [],
   "source": [
    "df_all = pd.DataFrame()"
   ]
  },
  {
   "cell_type": "code",
   "execution_count": null,
   "metadata": {},
   "outputs": [],
   "source": [
    "df_all['CH'] = df[df['Arzt_Land'] == \"Schweiz\"].groupby('PP_CH')['PP_CH'].count()\n",
    "df_all['Ausland'] = df[df['Arzt_Land'] != \"Schweiz\"].groupby('PP_CH')['PP_CH'].count()\n",
    "df_all['Total'] = df_total = df.groupby('PP_CH')['PP_CH'].count()"
   ]
  },
  {
   "cell_type": "code",
   "execution_count": null,
   "metadata": {},
   "outputs": [],
   "source": [
    "df_all = df_all.reset_index()"
   ]
  },
  {
   "cell_type": "code",
   "execution_count": null,
   "metadata": {},
   "outputs": [],
   "source": [
    "df_all.head(3)"
   ]
  },
  {
   "cell_type": "code",
   "execution_count": null,
   "metadata": {},
   "outputs": [],
   "source": [
    "df_all.rename(columns = {'PP_CH' : 'Jahr'})"
   ]
  },
  {
   "cell_type": "code",
   "execution_count": null,
   "metadata": {},
   "outputs": [],
   "source": [
    "df_all['CH %'] = df_all['CH'] / df_all['Total'] * 100"
   ]
  },
  {
   "cell_type": "code",
   "execution_count": null,
   "metadata": {},
   "outputs": [],
   "source": [
    "df_all['Ausl %'] = df_all['Ausland'] / df_all['Total'] * 100"
   ]
  },
  {
   "cell_type": "code",
   "execution_count": null,
   "metadata": {},
   "outputs": [],
   "source": [
    "df_all.tail(20)"
   ]
  },
  {
   "cell_type": "code",
   "execution_count": null,
   "metadata": {},
   "outputs": [],
   "source": [
    "df_all = df_all.rename(columns = {'PP_CH' : 'Jahr'})"
   ]
  },
  {
   "cell_type": "code",
   "execution_count": null,
   "metadata": {},
   "outputs": [],
   "source": [
    "df_plot1 = df_all[['Jahr', 'CH %', 'Ausl %']]"
   ]
  },
  {
   "cell_type": "code",
   "execution_count": null,
   "metadata": {},
   "outputs": [],
   "source": [
    "df_plot1 = df_plot1.tail(15)"
   ]
  },
  {
   "cell_type": "code",
   "execution_count": null,
   "metadata": {},
   "outputs": [],
   "source": [
    "df_plot1.plot(x = 'Jahr', y = ['CH %', 'Ausl %'], kind = 'area', grid = True, fontsize = 18, figsize=(20,10))"
   ]
  },
  {
   "cell_type": "code",
   "execution_count": null,
   "metadata": {},
   "outputs": [],
   "source": [
    "df_all.to_csv(r'MedReg_Analyse_output/Psych_Land_Medizinstudium_2000b2019.csv',index = 'Jahr', header=True)"
   ]
  },
  {
   "cell_type": "markdown",
   "metadata": {},
   "source": [
    "### Resultat 5: Der Gesamtanteil an neu zugelassenen Fachärzten 'Psychiatrie und Psychotherapie' ist in den letzten Jahren gesunken,  im Vergleich zur Vordekade hat er sich seit 2010 gut halbiert. \n",
    "Wir möchten jetzt noch die Daten der direkt anerkannten Diplome separat der Tabelle hinzufügen (sie sind aber bereits in den Daten der Spalte 'Ausland' berücksichtigt). Besonders seit 2012 ist hier ein grosser Anstieg zu verzeichnen, zeigte bereits eine frühere Auswertung von BAG-Daten."
   ]
  },
  {
   "cell_type": "code",
   "execution_count": null,
   "metadata": {},
   "outputs": [],
   "source": [
    "df_anerkannt = df.groupby('PP_Anerkennung')['PP_Anerkennung'].count()"
   ]
  },
  {
   "cell_type": "code",
   "execution_count": null,
   "metadata": {},
   "outputs": [],
   "source": [
    "df_anerkannt = df_anerkannt.to_frame(name='Anerkannt')"
   ]
  },
  {
   "cell_type": "code",
   "execution_count": null,
   "metadata": {},
   "outputs": [],
   "source": [
    "df_anerkannt.reset_index(inplace = True)"
   ]
  },
  {
   "cell_type": "code",
   "execution_count": null,
   "metadata": {},
   "outputs": [],
   "source": [
    "df_anerkannt = df_anerkannt.rename(columns = {'PP_Anerkennung' : 'Jahr'})"
   ]
  },
  {
   "cell_type": "code",
   "execution_count": null,
   "metadata": {},
   "outputs": [],
   "source": [
    "df_anerkannt = df_anerkannt.drop([0], axis=0)"
   ]
  },
  {
   "cell_type": "code",
   "execution_count": null,
   "metadata": {
    "scrolled": true
   },
   "outputs": [],
   "source": [
    "df_all2 = pd.merge(df_all, df_anerkannt, how='outer', on='Jahr')"
   ]
  },
  {
   "cell_type": "code",
   "execution_count": null,
   "metadata": {
    "scrolled": true
   },
   "outputs": [],
   "source": [
    "df_all2.tail(3)"
   ]
  },
  {
   "cell_type": "code",
   "execution_count": null,
   "metadata": {},
   "outputs": [],
   "source": [
    "df_2002 = df_all2.tail(18)"
   ]
  },
  {
   "cell_type": "code",
   "execution_count": null,
   "metadata": {},
   "outputs": [],
   "source": [
    "df_2002"
   ]
  },
  {
   "cell_type": "code",
   "execution_count": null,
   "metadata": {},
   "outputs": [],
   "source": [
    "import matplotlib.pyplot as plt"
   ]
  },
  {
   "cell_type": "code",
   "execution_count": null,
   "metadata": {},
   "outputs": [],
   "source": [
    "df_2002.plot(x=\"Jahr\", y=[\"CH\", \"Ausland\", \"Anerkannt\"], grid = True, linewidth=3, fontsize = 18, figsize=(20,10))"
   ]
  },
  {
   "cell_type": "markdown",
   "metadata": {},
   "source": [
    "## Check: Quervergleich\n",
    "Wir wollen diese Analyse noch mit den vom BAG zur Verfügung gestellten Daten aus dem Jahr 2018 vergleichen. Allerdings sind dort nur alle Einträge mit erteilter Berufsausübungsbewilligung registriert. "
   ]
  },
  {
   "cell_type": "code",
   "execution_count": null,
   "metadata": {},
   "outputs": [],
   "source": [
    "df_bag2018 = pd.read_excel(r'/Users/master/Desktop/CAS_DJ/MedReg/Daten_BAG/BAG Aktive Ärzte Auszug MedReg/rohdaten-aktive-bab-med-2018_mod.xlsx')"
   ]
  },
  {
   "cell_type": "code",
   "execution_count": null,
   "metadata": {
    "scrolled": true
   },
   "outputs": [],
   "source": [
    "df_bag2018.head(2)"
   ]
  },
  {
   "cell_type": "code",
   "execution_count": null,
   "metadata": {},
   "outputs": [],
   "source": [
    "df_bag2018_psych = df_bag2018[df_bag2018['Facharzttitel'] == 'Psychiatrie und Psychotherapie']"
   ]
  },
  {
   "cell_type": "code",
   "execution_count": null,
   "metadata": {},
   "outputs": [],
   "source": [
    "len(df_bag2018_psych)"
   ]
  },
  {
   "cell_type": "code",
   "execution_count": null,
   "metadata": {},
   "outputs": [],
   "source": [
    "df_bag2018_psych['JahrAnerkennungWBT'].value_counts()"
   ]
  },
  {
   "cell_type": "code",
   "execution_count": null,
   "metadata": {},
   "outputs": [],
   "source": [
    "df_bag2018_psych['JahrGleichwertigkeitWBT'].value_counts()"
   ]
  },
  {
   "cell_type": "markdown",
   "metadata": {},
   "source": [
    "Check über alle Ärztegruppen:"
   ]
  },
  {
   "cell_type": "code",
   "execution_count": null,
   "metadata": {},
   "outputs": [],
   "source": [
    "df_bag2018['JahrGleichwertigkeitWBT'].value_counts()"
   ]
  },
  {
   "cell_type": "markdown",
   "metadata": {},
   "source": [
    "Dieses Feld erscheint praktisch obsolet, über alle Fachrichtungen wurde bloss ein Eintrag im Jahr 2018 darin festgehalten. "
   ]
  },
  {
   "cell_type": "markdown",
   "metadata": {},
   "source": [
    "## Check 1: Vergleich mit Zahlen 2018 des BAG\n",
    "Wir müssen die Daten nochmals überprüfen. Zumindest bei erteilter Berufsbewilligung kommen wir auf tiefere Zahlen, was die Anerkennung von Weiterbildungstiteln betrifft. \n",
    "Wir vergleichen dazu nochmals die Daten aus dem Scraping, aber nehmen nur jene mit erteilter Bewilligung. \n",
    "\n"
   ]
  },
  {
   "cell_type": "code",
   "execution_count": null,
   "metadata": {},
   "outputs": [],
   "source": [
    "df.head(3)"
   ]
  },
  {
   "cell_type": "code",
   "execution_count": null,
   "metadata": {},
   "outputs": [],
   "source": [
    "df_erteilt = df[df['BAB Status'] == 'Erteilt']"
   ]
  },
  {
   "cell_type": "code",
   "execution_count": null,
   "metadata": {},
   "outputs": [],
   "source": [
    "len(df_erteilt)"
   ]
  },
  {
   "cell_type": "code",
   "execution_count": null,
   "metadata": {},
   "outputs": [],
   "source": [
    "df_erteilt['PP_Anerkennung'].value_counts()"
   ]
  },
  {
   "cell_type": "code",
   "execution_count": null,
   "metadata": {},
   "outputs": [],
   "source": [
    "df['PP_Anerkennung'].value_counts()"
   ]
  },
  {
   "cell_type": "markdown",
   "metadata": {},
   "source": [
    "Also: wir kommen bei allen Psychiatern mit erteilter kantonaler Bewilligung für das Jahr 2018 auf 47 anerkannte Diplome, 2017: 75, 2016: 83, 2015: 86. \n",
    "\n",
    "Die BAG-Datei 2018 liefert uns für 2015 ebenfalls 86 Anerkennungen, für 2016: 72 (-9), für 2017: 54 (-21), für 2018: bloss 24 (-23). \n",
    "\n",
    "Die Zahlen liegen näher, je weiter die Anerkennung zurückliegt. **Dies erscheint schlüssig: werden sich doch Ärztinnen und Ärzte erst nach der Anerkennung ihrer Titel bei einem Kanton um eine Bewilligung bemühen, wenn sie sich zum Beispiel mit einer eigenen Praxis niederlassen wollen.** Deshalb kommt es vermutlich zu diesem verzögerten Effekt. "
   ]
  },
  {
   "cell_type": "markdown",
   "metadata": {},
   "source": [
    "## Check 2: Anerkannte Weiterbildungstitel\n",
    "Um der Grundlage unserer Datenanalyse sicher zu sein, prüfen wir noch eine weitere Datenquelle des BAG, die wir bereits in einem frühren Schritt ausgewertet haben. Es handelt sich dabei um die Datei *uebersicht-anerkannte-wbt-humanmedizin-2018* über die Anerkennung ausländischer Facharzttitel [Link](https://www.bag.admin.ch/dam/bag/de/dokumente/berufe-gesundheitswesen/medizinalberufe/statistiken/med/uebersicht-anerkannte-wbt-humanmedizin-2018.xlsx.download.xlsx/uebersicht-anerkannte-wbt-humanmedizin-2018.xlsx). \n",
    "\n",
    "Diese [Auswertung](/DatenBAG_BAG/Anerkennung_Psychiatrie_eigene_Auswertung.csv) ergab bis 2018 folgende Zahlenreihe:\n",
    "61\t74\t48\t59\t53\t65\t64\t53\t62\t66\t107\t118\t107\t139\t135\t123\t93, das heisst:\n",
    "\n",
    "2018: 93 Anerkennungen (Scrapingdaten: 94, +1)\n",
    "\n",
    "2017: 123 (130, +7)\n",
    "\n",
    "2016: 135 (133, -2)\n",
    "\n",
    "2015: 139 (139, 0)\n",
    "\n",
    "2014: 107 (108, +1)\n",
    "\n",
    "Fazit: auch hier sind es sehr wahrscheinlich Mutationen, die zu diesen Unterschieden führt. Die Abweichungen sind eher gering - und wirken sich nicht nur wenig auf das Gesamtbild aus. Die Zahlen aus der Auswertung zeichnen deshalb ein Bild, mit der Einschränkung, dass wir nicht wissen, ob und in welchem Grad die im MedReg registrierten Ärztinnen und Ärzte tätig sind. Das gilt aber für alle gleichermassen. \n",
    "\n",
    "\n"
   ]
  }
 ],
 "metadata": {
  "kernelspec": {
   "display_name": "Python 3",
   "language": "python",
   "name": "python3"
  },
  "language_info": {
   "codemirror_mode": {
    "name": "ipython",
    "version": 3
   },
   "file_extension": ".py",
   "mimetype": "text/x-python",
   "name": "python",
   "nbconvert_exporter": "python",
   "pygments_lexer": "ipython3",
   "version": "3.7.6"
  }
 },
 "nbformat": 4,
 "nbformat_minor": 2
}
