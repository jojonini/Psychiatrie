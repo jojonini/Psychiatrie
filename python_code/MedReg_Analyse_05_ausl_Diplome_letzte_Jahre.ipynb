{
 "cells": [
  {
   "cell_type": "markdown",
   "metadata": {},
   "source": [
    "## Zusatzauswertung: Anzahl und Herkunft ausländischer Diplome in den letzten 5 Jahren\n",
    "Wir haben im Notebook [MedReg_Analyse_03](/Users/master/Desktop/CAS_DJ/MedReg/MedReg_Scraping_2020/MedReg_Analyse_03.ipynb) zwar bereits die Länder analysiert, in denen die per Ende 2019 verzeichneten Fachärzte ihr Medizinstudium gemacht haben. Jetzt (9.2.2020), bei der Erstellung der Grafik stellte sich mir die Frage, ob es sinnvoll wäre, statt nur des Jahres 2019 evtl. die Zahlen der letzten fünf Jahre auszuwerten, was hier geschehen soll:\n",
    "\n"
   ]
  },
  {
   "cell_type": "code",
   "execution_count": 1,
   "metadata": {},
   "outputs": [],
   "source": [
    "import pandas as pd\n",
    "import re\n",
    "import numpy as np\n",
    "import datetime"
   ]
  },
  {
   "cell_type": "code",
   "execution_count": 2,
   "metadata": {},
   "outputs": [],
   "source": [
    "df = pd.read_csv(r'medreg_2020_psych_b2019_20200128.csv')"
   ]
  },
  {
   "cell_type": "code",
   "execution_count": 3,
   "metadata": {},
   "outputs": [
    {
     "data": {
      "text/plain": [
       "5413"
      ]
     },
     "execution_count": 3,
     "metadata": {},
     "output_type": "execute_result"
    }
   ],
   "source": [
    "len(df)"
   ]
  },
  {
   "cell_type": "code",
   "execution_count": 4,
   "metadata": {},
   "outputs": [
    {
     "data": {
      "text/html": [
       "<div>\n",
       "<style scoped>\n",
       "    .dataframe tbody tr th:only-of-type {\n",
       "        vertical-align: middle;\n",
       "    }\n",
       "\n",
       "    .dataframe tbody tr th {\n",
       "        vertical-align: top;\n",
       "    }\n",
       "\n",
       "    .dataframe thead th {\n",
       "        text-align: right;\n",
       "    }\n",
       "</style>\n",
       "<table border=\"1\" class=\"dataframe\">\n",
       "  <thead>\n",
       "    <tr style=\"text-align: right;\">\n",
       "      <th></th>\n",
       "      <th>Unnamed: 0</th>\n",
       "      <th>Unnamed: 0.1</th>\n",
       "      <th>Doc_ID</th>\n",
       "      <th>Name</th>\n",
       "      <th>Geschlecht</th>\n",
       "      <th>Adresse</th>\n",
       "      <th>Ort</th>\n",
       "      <th>Nationalität</th>\n",
       "      <th>Sprache</th>\n",
       "      <th>Arzt_Jahr</th>\n",
       "      <th>Arzt_Land</th>\n",
       "      <th>Arzt_Anerkennung_Jahr</th>\n",
       "      <th>PP_Jahr</th>\n",
       "      <th>PP_Land</th>\n",
       "      <th>PP_Anerkennung</th>\n",
       "      <th>BAB</th>\n",
       "      <th>BAB Status</th>\n",
       "      <th>Datei</th>\n",
       "      <th>PP_CH</th>\n",
       "    </tr>\n",
       "  </thead>\n",
       "  <tbody>\n",
       "    <tr>\n",
       "      <th>0</th>\n",
       "      <td>0</td>\n",
       "      <td>0</td>\n",
       "      <td>552</td>\n",
       "      <td>Poleski, Alexander</td>\n",
       "      <td>m</td>\n",
       "      <td>Chemin des Allières 1,1012 Lausanne,VD</td>\n",
       "      <td>1012 Lausanne</td>\n",
       "      <td>Schweiz (CH)</td>\n",
       "      <td>Französisch</td>\n",
       "      <td>1985</td>\n",
       "      <td>Schweiz</td>\n",
       "      <td>NaN</td>\n",
       "      <td>1986</td>\n",
       "      <td>Schweiz</td>\n",
       "      <td>0</td>\n",
       "      <td>Waadt                (1986), aktiv, MedBG, pri...</td>\n",
       "      <td>Erteilt</td>\n",
       "      <td>medreg_552.html</td>\n",
       "      <td>1986</td>\n",
       "    </tr>\n",
       "    <tr>\n",
       "      <th>1</th>\n",
       "      <td>1</td>\n",
       "      <td>1</td>\n",
       "      <td>566</td>\n",
       "      <td>Langegger, Florian</td>\n",
       "      <td>m</td>\n",
       "      <td>Seestrasse 22,8592 Uttwil,TG</td>\n",
       "      <td>8592 Uttwil</td>\n",
       "      <td>Schweiz (CH)</td>\n",
       "      <td>Deutsch</td>\n",
       "      <td>1985</td>\n",
       "      <td>Schweiz</td>\n",
       "      <td>NaN</td>\n",
       "      <td>1985</td>\n",
       "      <td>Schweiz</td>\n",
       "      <td>0</td>\n",
       "      <td>Thurgau                (2017), aktiv, MedBG, p...</td>\n",
       "      <td>Erteilt</td>\n",
       "      <td>medreg_566.html</td>\n",
       "      <td>1985</td>\n",
       "    </tr>\n",
       "  </tbody>\n",
       "</table>\n",
       "</div>"
      ],
      "text/plain": [
       "   Unnamed: 0  Unnamed: 0.1  Doc_ID                Name Geschlecht  \\\n",
       "0           0             0     552  Poleski, Alexander          m   \n",
       "1           1             1     566  Langegger, Florian          m   \n",
       "\n",
       "                                  Adresse            Ort   Nationalität  \\\n",
       "0  Chemin des Allières 1,1012 Lausanne,VD  1012 Lausanne   Schweiz (CH)   \n",
       "1            Seestrasse 22,8592 Uttwil,TG    8592 Uttwil   Schweiz (CH)   \n",
       "\n",
       "        Sprache  Arzt_Jahr Arzt_Land  Arzt_Anerkennung_Jahr  PP_Jahr  PP_Land  \\\n",
       "0   Französisch       1985   Schweiz                    NaN     1986  Schweiz   \n",
       "1       Deutsch       1985   Schweiz                    NaN     1985  Schweiz   \n",
       "\n",
       "   PP_Anerkennung                                                BAB  \\\n",
       "0               0  Waadt                (1986), aktiv, MedBG, pri...   \n",
       "1               0  Thurgau                (2017), aktiv, MedBG, p...   \n",
       "\n",
       "  BAB Status            Datei  PP_CH  \n",
       "0    Erteilt  medreg_552.html   1986  \n",
       "1    Erteilt  medreg_566.html   1985  "
      ]
     },
     "execution_count": 4,
     "metadata": {},
     "output_type": "execute_result"
    }
   ],
   "source": [
    "df.head(2)"
   ]
  },
  {
   "cell_type": "code",
   "execution_count": 28,
   "metadata": {},
   "outputs": [],
   "source": [
    "df2 = df[df['PP_CH'] > 2015]"
   ]
  },
  {
   "cell_type": "code",
   "execution_count": 29,
   "metadata": {},
   "outputs": [
    {
     "data": {
      "text/plain": [
       "880"
      ]
     },
     "execution_count": 29,
     "metadata": {},
     "output_type": "execute_result"
    }
   ],
   "source": [
    "len(df2)"
   ]
  },
  {
   "cell_type": "code",
   "execution_count": 30,
   "metadata": {},
   "outputs": [],
   "source": [
    "df_5J = df2['Arzt_Land'].value_counts().reset_index().rename(columns = {'index':'Land Medizinstudium', 'Arzt_Land':'Anzahl'})"
   ]
  },
  {
   "cell_type": "code",
   "execution_count": 31,
   "metadata": {},
   "outputs": [
    {
     "data": {
      "text/html": [
       "<div>\n",
       "<style scoped>\n",
       "    .dataframe tbody tr th:only-of-type {\n",
       "        vertical-align: middle;\n",
       "    }\n",
       "\n",
       "    .dataframe tbody tr th {\n",
       "        vertical-align: top;\n",
       "    }\n",
       "\n",
       "    .dataframe thead th {\n",
       "        text-align: right;\n",
       "    }\n",
       "</style>\n",
       "<table border=\"1\" class=\"dataframe\">\n",
       "  <thead>\n",
       "    <tr style=\"text-align: right;\">\n",
       "      <th></th>\n",
       "      <th>Land Medizinstudium</th>\n",
       "      <th>Anzahl</th>\n",
       "    </tr>\n",
       "  </thead>\n",
       "  <tbody>\n",
       "    <tr>\n",
       "      <th>40</th>\n",
       "      <td>Brasilien</td>\n",
       "      <td>1</td>\n",
       "    </tr>\n",
       "    <tr>\n",
       "      <th>41</th>\n",
       "      <td>Venezuela</td>\n",
       "      <td>1</td>\n",
       "    </tr>\n",
       "  </tbody>\n",
       "</table>\n",
       "</div>"
      ],
      "text/plain": [
       "   Land Medizinstudium  Anzahl\n",
       "40           Brasilien       1\n",
       "41           Venezuela       1"
      ]
     },
     "execution_count": 31,
     "metadata": {},
     "output_type": "execute_result"
    }
   ],
   "source": [
    "df_5J.tail(2)"
   ]
  },
  {
   "cell_type": "code",
   "execution_count": 32,
   "metadata": {},
   "outputs": [],
   "source": [
    "total = len(df2)"
   ]
  },
  {
   "cell_type": "code",
   "execution_count": 33,
   "metadata": {},
   "outputs": [],
   "source": [
    "df_5J['Anteil'] = df_5J['Anzahl'] / int(total) * 100"
   ]
  },
  {
   "cell_type": "code",
   "execution_count": 35,
   "metadata": {},
   "outputs": [
    {
     "data": {
      "text/html": [
       "<div>\n",
       "<style scoped>\n",
       "    .dataframe tbody tr th:only-of-type {\n",
       "        vertical-align: middle;\n",
       "    }\n",
       "\n",
       "    .dataframe tbody tr th {\n",
       "        vertical-align: top;\n",
       "    }\n",
       "\n",
       "    .dataframe thead th {\n",
       "        text-align: right;\n",
       "    }\n",
       "</style>\n",
       "<table border=\"1\" class=\"dataframe\">\n",
       "  <thead>\n",
       "    <tr style=\"text-align: right;\">\n",
       "      <th></th>\n",
       "      <th>Land Medizinstudium</th>\n",
       "      <th>Anzahl</th>\n",
       "      <th>Anteil</th>\n",
       "    </tr>\n",
       "  </thead>\n",
       "  <tbody>\n",
       "    <tr>\n",
       "      <th>0</th>\n",
       "      <td>Deutschland</td>\n",
       "      <td>277</td>\n",
       "      <td>31.477273</td>\n",
       "    </tr>\n",
       "    <tr>\n",
       "      <th>1</th>\n",
       "      <td>Schweiz</td>\n",
       "      <td>174</td>\n",
       "      <td>19.772727</td>\n",
       "    </tr>\n",
       "    <tr>\n",
       "      <th>2</th>\n",
       "      <td>Frankreich</td>\n",
       "      <td>137</td>\n",
       "      <td>15.568182</td>\n",
       "    </tr>\n",
       "    <tr>\n",
       "      <th>3</th>\n",
       "      <td>Italien</td>\n",
       "      <td>54</td>\n",
       "      <td>6.136364</td>\n",
       "    </tr>\n",
       "    <tr>\n",
       "      <th>4</th>\n",
       "      <td>Österreich</td>\n",
       "      <td>47</td>\n",
       "      <td>5.340909</td>\n",
       "    </tr>\n",
       "    <tr>\n",
       "      <th>5</th>\n",
       "      <td>Griechenland</td>\n",
       "      <td>39</td>\n",
       "      <td>4.431818</td>\n",
       "    </tr>\n",
       "    <tr>\n",
       "      <th>6</th>\n",
       "      <td>Rumänien</td>\n",
       "      <td>28</td>\n",
       "      <td>3.181818</td>\n",
       "    </tr>\n",
       "    <tr>\n",
       "      <th>7</th>\n",
       "      <td>Spanien</td>\n",
       "      <td>17</td>\n",
       "      <td>1.931818</td>\n",
       "    </tr>\n",
       "    <tr>\n",
       "      <th>8</th>\n",
       "      <td>Bulgarien</td>\n",
       "      <td>10</td>\n",
       "      <td>1.136364</td>\n",
       "    </tr>\n",
       "    <tr>\n",
       "      <th>9</th>\n",
       "      <td>Russische Föderation</td>\n",
       "      <td>10</td>\n",
       "      <td>1.136364</td>\n",
       "    </tr>\n",
       "  </tbody>\n",
       "</table>\n",
       "</div>"
      ],
      "text/plain": [
       "    Land Medizinstudium  Anzahl     Anteil\n",
       "0           Deutschland     277  31.477273\n",
       "1               Schweiz     174  19.772727\n",
       "2            Frankreich     137  15.568182\n",
       "3               Italien      54   6.136364\n",
       "4            Österreich      47   5.340909\n",
       "5          Griechenland      39   4.431818\n",
       "6              Rumänien      28   3.181818\n",
       "7               Spanien      17   1.931818\n",
       "8             Bulgarien      10   1.136364\n",
       "9  Russische Föderation      10   1.136364"
      ]
     },
     "execution_count": 35,
     "metadata": {},
     "output_type": "execute_result"
    }
   ],
   "source": [
    "df_5J.head(10)"
   ]
  },
  {
   "cell_type": "markdown",
   "metadata": {},
   "source": [
    "### Resultat: das also sind die Top-Ten-Länder der Psychiaterdiplome die von 2015 bis 2019 anerkannt wurden."
   ]
  },
  {
   "cell_type": "code",
   "execution_count": 38,
   "metadata": {},
   "outputs": [],
   "source": [
    "df_5J.to_csv(r'/Users/master/Desktop/CAS_DJ/MedReg/Datananalyse_output/MedReg_Psych_Land_Medizinstudium_2015b2019.csv',index = 'Land Medizinstudium', header=True)"
   ]
  },
  {
   "cell_type": "code",
   "execution_count": null,
   "metadata": {},
   "outputs": [],
   "source": []
  }
 ],
 "metadata": {
  "kernelspec": {
   "display_name": "Python 3",
   "language": "python",
   "name": "python3"
  },
  "language_info": {
   "codemirror_mode": {
    "name": "ipython",
    "version": 3
   },
   "file_extension": ".py",
   "mimetype": "text/x-python",
   "name": "python",
   "nbconvert_exporter": "python",
   "pygments_lexer": "ipython3",
   "version": "3.7.6"
  }
 },
 "nbformat": 4,
 "nbformat_minor": 2
}
